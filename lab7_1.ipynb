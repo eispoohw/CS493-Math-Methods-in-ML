{
  "nbformat": 4,
  "nbformat_minor": 0,
  "metadata": {
    "colab": {
      "provenance": [],
      "include_colab_link": true
    },
    "kernelspec": {
      "display_name": "Python 3",
      "language": "python",
      "name": "python3"
    },
    "language_info": {
      "codemirror_mode": {
        "name": "ipython",
        "version": 3
      },
      "file_extension": ".py",
      "mimetype": "text/x-python",
      "name": "python",
      "nbconvert_exporter": "python",
      "pygments_lexer": "ipython3",
      "version": "3.6.5"
    },
    "accelerator": "GPU",
    "gpuClass": "standard"
  },
  "cells": [
    {
      "cell_type": "markdown",
      "metadata": {
        "id": "view-in-github",
        "colab_type": "text"
      },
      "source": [
        "<a href=\"https://colab.research.google.com/github/eispoohw/CS493-Math-Methods-in-ML/blob/main/lab7_1.ipynb\" target=\"_parent\"><img src=\"https://colab.research.google.com/assets/colab-badge.svg\" alt=\"Open In Colab\"/></a>"
      ]
    },
    {
      "cell_type": "markdown",
      "metadata": {
        "id": "vcnGdgw_YJ8u"
      },
      "source": [
        "# PyTorch. Основы: синтаксис, torch.cuda и torch.autograd\n",
        "\n",
        "## Задание 7.1"
      ]
    },
    {
      "cell_type": "code",
      "metadata": {
        "id": "RtyozNmmYJ89"
      },
      "source": [
        "import torch\n",
        "import matplotlib.pyplot as plt"
      ],
      "execution_count": 1,
      "outputs": []
    },
    {
      "cell_type": "markdown",
      "metadata": {
        "id": "ny4-Qi2wYJ-6"
      },
      "source": [
        "### Задача 1"
      ]
    },
    {
      "cell_type": "markdown",
      "metadata": {
        "id": "IWxlFq0bYJ-_"
      },
      "source": [
        "1). Создайте два вещественных тензора: `a` размером (3, 4) и `b` размером (12,)   \n",
        "2). Создайте тензор `c`, являющийся тензором `b`, но размера (2, 2, 3)  \n",
        "3). Выведите первый столбец матрицы `a` с помощью индексации"
      ]
    },
    {
      "cell_type": "code",
      "metadata": {
        "id": "3oxZuk3yYJ_A",
        "colab": {
          "base_uri": "https://localhost:8080/"
        },
        "outputId": "e0ef4c1b-edc6-4c4c-e6b7-17cd8e9f8c43"
      },
      "source": [
        "a = torch.FloatTensor(3, 4)\n",
        "b = torch.FloatTensor(12)\n",
        "c = b.view(2, 2, 3)\n",
        "\n",
        "a[:, 0]"
      ],
      "execution_count": 2,
      "outputs": [
        {
          "output_type": "execute_result",
          "data": {
            "text/plain": [
              "tensor([5.2362e-35,        nan, 4.3066e+21])"
            ]
          },
          "metadata": {},
          "execution_count": 2
        }
      ]
    },
    {
      "cell_type": "markdown",
      "metadata": {
        "id": "D2IP_FrKYKAA"
      },
      "source": [
        "### Задача 2"
      ]
    },
    {
      "cell_type": "markdown",
      "metadata": {
        "id": "tBZFbSYQYKAA"
      },
      "source": [
        "1). Создайте два вещественных тензора: `a` размером (5, 2) и `b` размером (1,10)   \n",
        "2). Создайте тензор `c`, являющийся тензором `b`, но размера (5, 2)  \n",
        "3). Произведите все арифметические операции с тензорами `a` и `c`"
      ]
    },
    {
      "cell_type": "code",
      "metadata": {
        "id": "hzs2bH3GYKAB",
        "colab": {
          "base_uri": "https://localhost:8080/"
        },
        "outputId": "4b6dd9f9-e8b4-4e1f-849b-75fca481cfb1"
      },
      "source": [
        "a = torch.FloatTensor(5, 2)\n",
        "b = torch.FloatTensor(1, 10)\n",
        "c = b.view(5, 2)\n",
        "\n",
        "print(f\"a + c\\t{a.add(c)}\\n\")\n",
        "print(f\"a - c\\t{a.sub(c)}\\n\")\n",
        "print(f\"a * c\\t{a.mul(c)}\\n\")\n",
        "print(f\"a / c\\t{a.div(c)}\\n\")"
      ],
      "execution_count": 3,
      "outputs": [
        {
          "output_type": "stream",
          "name": "stdout",
          "text": [
            "a + c\ttensor([[1.0473e-34, 0.0000e+00],\n",
            "        [1.0089e-43, 0.0000e+00],\n",
            "        [       nan, 0.0000e+00],\n",
            "        [2.7022e-14, 7.2846e-06],\n",
            "        [4.1398e-19, 6.7476e-12]])\n",
            "\n",
            "a - c\ttensor([[7.3468e-40, 0.0000e+00],\n",
            "        [0.0000e+00, 0.0000e+00],\n",
            "        [       nan, 0.0000e+00],\n",
            "        [5.5338e-16, 0.0000e+00],\n",
            "        [0.0000e+00, 0.0000e+00]])\n",
            "\n",
            "a * c\ttensor([[0.0000e+00, 0.0000e+00],\n",
            "        [0.0000e+00, 0.0000e+00],\n",
            "        [       nan, 0.0000e+00],\n",
            "        [1.8248e-28, 1.3266e-11],\n",
            "        [4.2845e-38, 1.1383e-23]])\n",
            "\n",
            "a / c\ttensor([[1.0000,    nan],\n",
            "        [1.0000,    nan],\n",
            "        [   nan,    nan],\n",
            "        [1.0418, 1.0000],\n",
            "        [1.0000, 1.0000]])\n",
            "\n"
          ]
        }
      ]
    },
    {
      "cell_type": "markdown",
      "metadata": {
        "id": "rIaroFO6YKBT"
      },
      "source": [
        "### Задача 3"
      ]
    },
    {
      "cell_type": "markdown",
      "metadata": {
        "id": "GfLHVvKvYKBT"
      },
      "source": [
        "1). Создайте тензор *целых чисел* `images` размерности (100, 200, 200, 3) (можно интерпретировать это как 100 картинок размера 200х200 с тремя цветовыми каналами, то есть 100 цветных изображений 200х200). Заполните его нулями  \n",
        "\n",
        "2). Сделайте так, чтобы у $i$-ой по порядку картинки была нарисована белая полоса толщиной два пикселя в строках, которые соответствуют номеру картинки. Например, у 3-ей по порядку картинки белая полоска будет занимать 6 и 7 строки, у 99 - 198 и 199. Сделать белую строку можно, записав в ячейки тензора число 255 (по всем трём каналам). Выведите несколько примеров с помощью `pylot`  \n",
        "\n",
        "3). Посчитайте среднее тензора `images` по 1-ой оси (по сути - средняя картинка), умножьте полученный тензор на 70. Нарисуйте с помощью `pyplot`, должна получиться серая картинка (при взятии среднего нужно привести тензор к float с помощью `.float()`, при отрисовке обратно к int с помощью `.int()`)"
      ]
    },
    {
      "cell_type": "code",
      "metadata": {
        "id": "pZVGHEQQYKBU",
        "colab": {
          "base_uri": "https://localhost:8080/",
          "height": 173
        },
        "outputId": "2c9b215b-1882-4b9b-d7bf-78406458d262"
      },
      "source": [
        "import random\n",
        "\n",
        "images = torch.IntTensor(100, 200, 200, 3).zero_()\n",
        "white_dot = torch.IntTensor([255, 255, 255])\n",
        "\n",
        "for i in range(images.shape[0]):\n",
        "    images[i, i*2:i*2+2, :] = 255\n",
        "\n",
        "fig = plt.figure(figsize=(18, 5))\n",
        "\n",
        "for i in range(1, 7):\n",
        "    sub = fig.add_subplot(1, 7, i)\n",
        "    idx = random.randint(0, 99)\n",
        "    sub.imshow(images[idx])\n",
        "    sub.set_xticks([])\n",
        "    sub.set_yticks([])\n",
        "    sub.set_title(f\"row {idx}\")\n",
        "\n",
        "plt.show()"
      ],
      "execution_count": 4,
      "outputs": [
        {
          "output_type": "display_data",
          "data": {
            "text/plain": [
              "<Figure size 1296x360 with 6 Axes>"
            ],
            "image/png": "[encoded data removed]"
          },
          "metadata": {}
        }
      ]
    },
    {
      "cell_type": "code",
      "source": [
        "image_mean = images.float().mean(0) * 70\n",
        "\n",
        "fig = plt.figure(figsize=(3, 3))\n",
        "plt.imshow(image_mean.int())\n",
        "plt.xticks([])\n",
        "plt.yticks([])\n",
        "plt.show()"
      ],
      "metadata": {
        "colab": {
          "base_uri": "https://localhost:8080/",
          "height": 197
        },
        "id": "Jont2FnA_d9R",
        "outputId": "c315feca-3281-4e6e-8b7f-5c6ef4feba84"
      },
      "execution_count": 5,
      "outputs": [
        {
          "output_type": "display_data",
          "data": {
            "text/plain": [
              "<Figure size 216x216 with 1 Axes>"
            ],
            "image/png": "[encoded data removed]"
          },
          "metadata": {}
        }
      ]
    },
    {
      "cell_type": "markdown",
      "metadata": {
        "id": "oQnhq5ZdYKCu"
      },
      "source": [
        "### Задача 4"
      ]
    },
    {
      "cell_type": "markdown",
      "metadata": {
        "id": "UB95BhgTYKCu"
      },
      "source": [
        "- В Colab нажмите в меню сверху: `Runtime` -> `Change Runtime Type` -> `GPU`, где изначально стоит `None` (`Среда выполнение` - `Сменить среду выполнения`)\n",
        "- Объявите тензор `a` размера (2, 3, 4) и тензор `b` размера (1, 8, 3) на GPU, иницилизируйте их случайно равномерно (`.uniform_()`)\n",
        "- Затем измените форму тензора `b`, чтобы она совпадала с формой тензора `a`, получите тензор `c`  \n",
        "- Переместите `c` на CPU, переместите `a` на CPU  \n",
        "- Оберните их в `Variable()`\n",
        "- Объявите тензор `L = torch.mean((c - a) `**` 2)` и посчитайте градиент `L` по `c` ( то есть $\\frac{\\partial{L}}{\\partial{c}})$\n",
        "- Выведите градиент `L` по `c`"
      ]
    },
    {
      "cell_type": "code",
      "metadata": {
        "id": "WESOm5TCYKCv",
        "colab": {
          "base_uri": "https://localhost:8080/"
        },
        "outputId": "faa41b5d-ac3a-40aa-cb41-f2aa1f5b2e82"
      },
      "source": [
        "from torch.autograd import Variable\n",
        "\n",
        "a = torch.FloatTensor(2, 3, 4).uniform_().cuda()\n",
        "b = torch.FloatTensor(1, 8, 3).uniform_().cuda()\n",
        "\n",
        "c = b.view(a.shape)\n",
        "\n",
        "c = Variable(c.cpu(), requires_grad=True)\n",
        "a = Variable(a.cpu(), requires_grad=True)\n",
        "\n",
        "L = torch.mean((c - a) ** 2)\n",
        "L.backward()\n",
        "\n",
        "c.grad"
      ],
      "execution_count": 6,
      "outputs": [
        {
          "output_type": "execute_result",
          "data": {
            "text/plain": [
              "tensor([[[-0.0343,  0.0129,  0.0250, -0.0170],\n",
              "         [ 0.0640, -0.0558,  0.0310, -0.0143],\n",
              "         [-0.0396,  0.0090,  0.0410,  0.0113]],\n",
              "\n",
              "        [[ 0.0152, -0.0430,  0.0221,  0.0524],\n",
              "         [ 0.0025,  0.0025, -0.0269, -0.0534],\n",
              "         [ 0.0054, -0.0179, -0.0002,  0.0248]]])"
            ]
          },
          "metadata": {},
          "execution_count": 6
        }
      ]
    }
  ]
}