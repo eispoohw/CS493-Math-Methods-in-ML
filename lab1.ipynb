{
  "cells": [
    {
      "cell_type": "markdown",
      "metadata": {
        "id": "view-in-github",
        "colab_type": "text"
      },
      "source": [
        "<a href=\"https://colab.research.google.com/github/eispoohw/CS493-Math-Methods-in-ML/blob/main/lab1.ipynb\" target=\"_parent\"><img src=\"https://colab.research.google.com/assets/colab-badge.svg\" alt=\"Open In Colab\"/></a>"
      ]
    },
    {
      "cell_type": "code",
      "execution_count": 34,
      "metadata": {
        "id": "NmhoT_E2Hyfh"
      },
      "outputs": [],
      "source": [
        "import numpy as np"
      ]
    },
    {
      "cell_type": "markdown",
      "metadata": {
        "id": "BsNwjQDRfmLY"
      },
      "source": [
        "# Задание 1"
      ]
    },
    {
      "cell_type": "markdown",
      "metadata": {
        "id": "wu6r1-s7fmLe"
      },
      "source": [
        "---"
      ]
    },
    {
      "cell_type": "markdown",
      "metadata": {
        "id": "zxRIdPO9gYyX"
      },
      "source": [
        "Напишите программу, которая будет решать систему линейных уравнений вида:\n",
        "\n",
        "\\begin{matrix} a_{11}x+a_{12}y=b_{1}&(1) \\\\ a_{21}x+a_{22}y=b_{2} &(2) \\end{matrix}\n",
        "​\t\n",
        "На вход программа должна принимать 2 строки.\n",
        "\n",
        "Каждая строка содержит 3 действительных числа через пробел: коэффициенты a и b.\n",
        "\n",
        "На выходе программа должна выдавать значения x и y в одну строку через пробел.\n",
        " \n",
        "\n",
        "Примечание 1. Для разделения строки на отдельные элементы используйте функцию split()\n",
        "\n",
        "Примечание 2. В качестве разделителя между целой и дробной частью используйте точку, например 0.2"
      ]
    },
    {
      "cell_type": "code",
      "execution_count": 35,
      "metadata": {
        "id": "6sxlcLbVlrjl"
      },
      "outputs": [],
      "source": [
        "def linan(row1: str, row2: str) -> str:\n",
        "    a11, a12, b1 = map(float, row1.split())\n",
        "    a21, a22, b2 = map(float, row2.split())\n",
        "    # define matrixes (AX = B)\n",
        "    A = np.array([[a11, a12], [a21, a22]])\n",
        "    B = np.array([b1,b2])\n",
        "    # calculate rank(A) and rank(A|B)\n",
        "    rankA = np.linalg.matrix_rank(A)\n",
        "    rankAp = np.linalg.matrix_rank(np.concatenate((A, np.array([B]).T), axis=1))\n",
        "    # Kronecker–Capelli theorem\n",
        "    if rankA == rankAp:\n",
        "        if rankA == 2:\n",
        "            x, y = np.linalg.solve(A, B)\n",
        "            return f\"{np.around(x, decimals = 2)} {np.around(y, decimals = 2)}\"\n",
        "        else:\n",
        "            return \"[ERROR] an infinite number of solutions\"\n",
        "    else:\n",
        "        return \"[ERROR] the system is incompatible\""
      ]
    },
    {
      "cell_type": "code",
      "execution_count": 36,
      "metadata": {
        "colab": {
          "base_uri": "https://localhost:8080/",
          "height": 70
        },
        "id": "7H8lhfyoKe5D",
        "outputId": "3dc4bdbd-7d1d-45fd-ed40-85e85fd94450"
      },
      "outputs": [
        {
          "name": "stdout",
          "output_type": "stream",
          "text": [
            "3 6 9\n",
            "2 2 2\n"
          ]
        },
        {
          "output_type": "execute_result",
          "data": {
            "text/plain": [
              "'-1.0 2.0'"
            ],
            "application/vnd.google.colaboratory.intrinsic+json": {
              "type": "string"
            }
          },
          "metadata": {},
          "execution_count": 36
        }
      ],
      "source": [
        "linan(input(), input())"
      ]
    },
    {
      "cell_type": "markdown",
      "metadata": {
        "id": "wLoVDMQnfmOv"
      },
      "source": [
        "# Задание 2"
      ]
    },
    {
      "cell_type": "markdown",
      "metadata": {
        "id": "6bmt_YF3fmOw"
      },
      "source": [
        "Напишите функцию `decorate_matrix`, которая получает на вход одно целое число больше единицы. Функция должна возвращать матрицу n на n, у которой на границах стоят единицы, а на всех остальных позициях(если остались позиции не на границах) стоят нули.\n",
        "\n",
        "Нужно сделать без использования  циклов.\n",
        "\n",
        "```\n",
        "# ожидаемый резальтат для аргумента 5\n",
        "array([[1., 1., 1., 1., 1.],\n",
        "[1., 0., 0., 0., 1.],\n",
        "[1., 0., 0., 0., 1.],\n",
        "[1., 0., 0., 0., 1.],\n",
        "[1., 1., 1., 1., 1.]])\n",
        "```\n",
        "\n"
      ]
    },
    {
      "cell_type": "code",
      "execution_count": 37,
      "metadata": {
        "id": "vhXgCs27fFJV"
      },
      "outputs": [],
      "source": [
        "def decorate_matrix(N: int) -> np.array:\n",
        "    if N < 1:\n",
        "        raise ValueError(\"N must be >= 1!\")\n",
        "    res = np.zeros((N-1, N-1))\n",
        "    res = np.pad(res, pad_width=1, mode='constant', constant_values=1)\n",
        "    return res"
      ]
    },
    {
      "cell_type": "code",
      "execution_count": 38,
      "metadata": {
        "colab": {
          "base_uri": "https://localhost:8080/"
        },
        "id": "XgshaksLgO_x",
        "outputId": "94021944-11e7-418c-c80e-c89e1049f0c5"
      },
      "outputs": [
        {
          "name": "stdout",
          "output_type": "stream",
          "text": [
            "4\n"
          ]
        },
        {
          "output_type": "execute_result",
          "data": {
            "text/plain": [
              "array([[1., 1., 1., 1., 1.],\n",
              "       [1., 0., 0., 0., 1.],\n",
              "       [1., 0., 0., 0., 1.],\n",
              "       [1., 0., 0., 0., 1.],\n",
              "       [1., 1., 1., 1., 1.]])"
            ]
          },
          "metadata": {},
          "execution_count": 38
        }
      ],
      "source": [
        "N = input()\n",
        "decorate_matrix(int(N))"
      ]
    },
    {
      "cell_type": "markdown",
      "metadata": {
        "id": "75sxny1zSCbl"
      },
      "source": [
        "# Задание 3"
      ]
    },
    {
      "cell_type": "markdown",
      "metadata": {
        "id": "2Xq1tBBAS5UJ"
      },
      "source": [
        "1) реализуйте 2 функции:\n",
        "\n",
        "$f(x) = (x+a)^2 - b$ \n",
        "\n",
        "$g(x) = |f(x)|$\n",
        "\n",
        "2) Найдите аргументы, при которых достигается минимум функций $f(x)$ и $g(x)$\n",
        "\n",
        "Пример. \n",
        "Входные значение: $a=3$ и $b=4$\n",
        "\n",
        "Выходные значения:\n",
        "\n",
        "`-3.0 -1.0`"
      ]
    },
    {
      "cell_type": "code",
      "execution_count": 39,
      "metadata": {
        "id": "qa1wMNKIjZmX"
      },
      "outputs": [],
      "source": [
        "# !Coefficients!\n",
        "a = 3\n",
        "b = 4\n",
        "\n",
        "def f(x):\n",
        "    return pow(x+a, 2) - b\n",
        "\n",
        "def g(x):\n",
        "    return abs(f(x))"
      ]
    },
    {
      "cell_type": "markdown",
      "metadata": {
        "id": "6usnmE18H3bf"
      },
      "source": [
        "Исследовав f(x) и g(x) получим следующие минимума:\n",
        "\n",
        "$$\n",
        "\\begin{cases}\n",
        "x = -a & \\in f(x) \\\\ \n",
        "x = -a & \\in g(x), & b \\le 0 \\\\\n",
        "x = \\pm \\sqrt{b} - a & \\in g(x), & b > 0\n",
        "\\end{cases}\n",
        "$$"
      ]
    },
    {
      "cell_type": "code",
      "execution_count": 40,
      "metadata": {
        "colab": {
          "base_uri": "https://localhost:8080/"
        },
        "id": "TNGlPGfMlEmB",
        "outputId": "39a82047-915c-4d9e-974c-5db561d2883c"
      },
      "outputs": [
        {
          "output_type": "stream",
          "name": "stdout",
          "text": [
            "[-3. -5. -1.]\n"
          ]
        }
      ],
      "source": [
        "# define array of min coordinates\n",
        "coordinates = np.array([float(-a)])\n",
        "\n",
        "# leftDot, rightDot: function change points\n",
        "# bound_segment: value to draw function graph\n",
        "left_dot = -a\n",
        "right_dot = -a\n",
        "bound_segment = 1\n",
        "\n",
        "if b > 0:\n",
        "    # g(x) is piecewise-defined function\n",
        "    left_dot -= np.sqrt(b)\n",
        "    right_dot += np.sqrt(b)\n",
        "    bound_segment += np.sqrt(b)/2\n",
        "    coordinates = np.append(coordinates, [left_dot, right_dot])\n",
        "\n",
        "print(coordinates)"
      ]
    },
    {
      "cell_type": "markdown",
      "metadata": {
        "id": "efml9GzISC9Q"
      },
      "source": [
        "# Задание 4"
      ]
    },
    {
      "cell_type": "markdown",
      "metadata": {
        "id": "SDZvKcsTVbAW"
      },
      "source": [
        "Постройте графики для функций из предыдущего задания и отметьте другим цветом на графиках точки найденных минимумов."
      ]
    },
    {
      "cell_type": "code",
      "execution_count": 42,
      "metadata": {
        "colab": {
          "base_uri": "https://localhost:8080/",
          "height": 293
        },
        "id": "0K7puaVzI7q5",
        "outputId": "7179e3da-bb3b-4b62-93a3-2ff63c8d4853"
      },
      "outputs": [
        {
          "output_type": "display_data",
          "data": {
            "text/plain": [
              "<Figure size 432x288 with 1 Axes>"
            ],
            "image/png": "[encoded data removed]"
          },
          "metadata": {
            "needs_background": "light"
          }
        }
      ],
      "source": [
        "import matplotlib\n",
        "import matplotlib.pyplot as plt\n",
        "\n",
        "matplotlib.rcParams.update({'font.size': 12})\n",
        "x = np.linspace(left_dot - bound_segment,  right_dot + bound_segment, 500)\n",
        "\n",
        "plt.plot(x, f(x), color='lightsteelblue', label='f(x)')\n",
        "plt.plot(x, g(x), color='violet', label='g(x)')\n",
        "plt.scatter(coordinates, f(coordinates), color='black', marker='o', label='min')\n",
        "for c in coordinates:\n",
        "    plt.text(c + 0.1, f(c), f\"[{round(c)}, {round(f(c))}]\")\n",
        "plt.legend()\n",
        "\n",
        "plt.minorticks_on()\n",
        "plt.xlabel('x')\n",
        "plt.grid(which='major')\n",
        "plt.grid(which='minor', linestyle=':')\n",
        "plt.tight_layout()\n",
        "\n",
        "plt.show()"
      ]
    },
    {
      "cell_type": "markdown",
      "metadata": {
        "id": "mrby3EfiSDKJ"
      },
      "source": [
        "# Задание 5"
      ]
    },
    {
      "cell_type": "markdown",
      "metadata": {
        "id": "J6AZ8785VkQd"
      },
      "source": [
        "1000 человек бросают монетку. Каждый бросил 10 раз подряд.\n",
        "\n",
        " 1. Какова вероятность того, что хотя бы у одного человека монетка выпала 10 раз подряд той же самой стороной (орлом или решкой)? \n",
        " 2. Какова вероятность того, что хотя бы у одного человека монетка выпала 8 раз подряд той же самой стороной (орлом или решкой)? \n",
        " 3. Какова вероятность того, что ровно у троих человек из 1000 монетка выпала 10 раз подряд той же самой стороной (орлом или решкой)?"
      ]
    },
    {
      "cell_type": "markdown",
      "source": [
        "### 1. Какова вероятность того, что хотя бы у одного человека монетка выпала 10 раз подряд той же самой стороной (орлом или решкой)?\n",
        "\n",
        "- Найдем вероятность того, что у одного человека монета выпадет одной и той же стороной 10 раз и обратную ей вероятность:\n",
        "$$ P_{same \\ side} = \\left(\\frac{1}{2}\\right)^9, \\quad \\overline{P_{same \\ side}} = 1 - \\left(\\frac{1}{2}\\right)^9$$\n",
        "- Найдем вероятность того, что ни у одного человека не выпала монета одной и той же стороной 10 раз\n",
        "$$ P_{no \\ cases} = \\overline{P_{same \\ side}}^{1000} = \\left(1 - \\left(\\frac{1}{2}\\right)^9\\right)^{1000}$$\n",
        "Следовательно, искомая вероятность: \n",
        "$$P = 1 - P_{no \\ cases} = 1 - \\left(1 - \\left(\\frac{1}{2}\\right)^9\\right)^{1000}$$"
      ],
      "metadata": {
        "id": "ozQN7ZXasVrr"
      }
    },
    {
      "cell_type": "code",
      "source": [
        "1 - np.power((1 - np.power(1/2, 9)),1000)"
      ],
      "metadata": {
        "colab": {
          "base_uri": "https://localhost:8080/"
        },
        "id": "4sCJoLoIu7LL",
        "outputId": "6470e147-86a4-42c0-973e-195249c54304"
      },
      "execution_count": 43,
      "outputs": [
        {
          "output_type": "execute_result",
          "data": {
            "text/plain": [
              "0.858440454732242"
            ]
          },
          "metadata": {},
          "execution_count": 43
        }
      ]
    },
    {
      "cell_type": "markdown",
      "source": [
        "### 2. Какова вероятность того, что хотя бы у одного человека монетка выпала 8 раз подряд той же самой стороной (орлом или решкой)?\n",
        "\n",
        "- Найдем вероятность того, что у одного человека монета выпадет одной и той же стороной 8 раз из 10 и обратную ей:\n",
        "$$ P_{ss8} = \\frac{2(4+2+2)}{2^{10}} = \\frac{2^4}{2^{10}} = \\left(\\frac{1}{2}\\right)^6 \\quad \\overline{P_{ss8}} = 1 - \\left(\\frac{1}{2}\\right)^6$$\n",
        "Подобно первому получим искомую вероятность: \n",
        "$$P = 1 - P_{no \\ cases} = 1 - \\overline{P_{ss8}}^{1000} = 1 - \\left(1 - \\left(\\frac{1}{2}\\right)^6\\right)^{1000}$$"
      ],
      "metadata": {
        "id": "BjCmeRe3vmc5"
      }
    },
    {
      "cell_type": "code",
      "source": [
        "1 - np.power(1-np.power(1/2, 6),1000)"
      ],
      "metadata": {
        "colab": {
          "base_uri": "https://localhost:8080/"
        },
        "id": "Q6gMB_fCy-Xw",
        "outputId": "a56e769a-0e6c-4cba-e7fe-8f7561ec7c94"
      },
      "execution_count": 44,
      "outputs": [
        {
          "output_type": "execute_result",
          "data": {
            "text/plain": [
              "0.9999998552643654"
            ]
          },
          "metadata": {},
          "execution_count": 44
        }
      ]
    },
    {
      "cell_type": "markdown",
      "source": [
        "### 3. Какова вероятность того, что ровно у троих человек из 1000 монетка выпала 10 раз подряд той же самой стороной (орлом или решкой)?\n",
        "\n",
        "- Используем схему Бернулли:\n",
        "$$ P = \\begin{pmatrix}1000 \\\\ 3\\end{pmatrix}\\left(\\frac{1}{2^{9}}\\right)^{3}\\left(1-\\frac{1}{2^{9}}\\right)^{997} $$\n"
      ],
      "metadata": {
        "id": "weoksnDFQSkx"
      }
    },
    {
      "cell_type": "code",
      "source": [
        "cnk = 1000 * 999 * 998 / 3 / 2\n",
        "p = 1 / np.power(2, 9)\n",
        "res = cnk * np.power(p, 3) * np.power(1 - p, 997)\n",
        "print(res)"
      ],
      "metadata": {
        "colab": {
          "base_uri": "https://localhost:8080/"
        },
        "id": "1P48rP2pS4WU",
        "outputId": "2ffba987-b7ab-4097-c517-fe6c4d228e9d"
      },
      "execution_count": 45,
      "outputs": [
        {
          "output_type": "stream",
          "name": "stdout",
          "text": [
            "0.1762873858121736\n"
          ]
        }
      ]
    },
    {
      "cell_type": "markdown",
      "source": [
        "## Проверим полученные значения методом Монте-Карло\n"
      ],
      "metadata": {
        "id": "psFqS4vH6BKi"
      }
    },
    {
      "cell_type": "code",
      "execution_count": null,
      "metadata": {
        "colab": {
          "base_uri": "https://localhost:8080/"
        },
        "id": "u9qFQUySdMqE",
        "outputId": "379c9923-e2de-444d-9603-03c9aba563fe"
      },
      "outputs": [
        {
          "output_type": "stream",
          "name": "stdout",
          "text": [
            "100000 experiments done.\n",
            "[TASK 1] 85649 cases. Probability: 0.85649\n",
            "[TASK 2] 100000 cases. Probability: 1.0\n",
            "[TASK 3] 17432 cases. Probability: 0.17432\n"
          ]
        }
      ],
      "source": [
        "# Monte Carlo Method\n",
        "\n",
        "experiments = 100000\n",
        "counter1 = 0\n",
        "counter2 = 0\n",
        "counter3 = 0\n",
        "\n",
        "for e in range(experiments):\n",
        "    is2 = False\n",
        "    threesame = 0\n",
        "    for p in range(1000):\n",
        "        if is2 and threesame > 3:\n",
        "            break\n",
        "        res = np.random.randint(0, 2, size=10)\n",
        "        ressum = np.sum(res)\n",
        "        if ressum == 0 or ressum == 10:\n",
        "            threesame += 1\n",
        "            is2 = True\n",
        "        elif not is2 and ressum in [1, 2, 8, 9] and \\\n",
        "        (np.sum(res[:8]) in [0, 8] or np.sum(res[1:9]) in [0, 8] or np.sum(res[2:]) in [0, 8]):\n",
        "            is2 = True\n",
        "    counter1 += threesame != 0\n",
        "    counter2 += is2\n",
        "    counter3 += threesame == 3\n",
        "\n",
        "print(f\"{experiments} experiments done.\")\n",
        "print(f\"[TASK 1] {counter1} cases. Probability: {counter1 / experiments}\")\n",
        "print(f\"[TASK 2] {counter2} cases. Probability: {counter2 / experiments}\")\n",
        "print(f\"[TASK 3] {counter3} cases. Probability: {counter3 / experiments}\")"
      ]
    },
    {
      "cell_type": "markdown",
      "metadata": {
        "id": "F0U4eTExcvo1"
      },
      "source": [
        "Результаты:\n",
        "```\n",
        "100 experiments done.\n",
        "[TASK 1] 77 cases. Probability: 0.77\n",
        "[TASK 2] 100 cases. Probability: 1.0\n",
        "[TASK 3] 16 cases. Probability: 0.16\n",
        "```\n",
        "```\n",
        "1000 experiments done.\n",
        "[TASK 1] 848 cases. Probability: 0.848\n",
        "[TASK 2] 1000 cases. Probability: 1.0\n",
        "[TASK 3] 159 cases. Probability: 0.159\n",
        "```\n",
        "```\n",
        "10000 experiments done.\n",
        "[TASK 1] 8595 cases. Probability: 0.8595\n",
        "[TASK 2] 10000 cases. Probability: 1.0\n",
        "[TASK 3] 1737 cases. Probability: 0.1737\n",
        "```\n",
        "```\n",
        "100000 experiments done.\n",
        "[TASK 1] 85649 cases. Probability: 0.85649\n",
        "[TASK 2] 100000 cases. Probability: 1.0\n",
        "[TASK 3] 17432 cases. Probability: 0.17432\n",
        "```\n",
        "\n",
        "\n",
        "\n"
      ]
    }
  ],
  "metadata": {
    "colab": {
      "collapsed_sections": [],
      "provenance": [],
      "include_colab_link": true
    },
    "kernelspec": {
      "display_name": "Python 3",
      "language": "python",
      "name": "python3"
    },
    "language_info": {
      "codemirror_mode": {
        "name": "ipython",
        "version": 3
      },
      "file_extension": ".py",
      "mimetype": "text/x-python",
      "name": "python",
      "nbconvert_exporter": "python",
      "pygments_lexer": "ipython3",
      "version": "3.7.4"
    }
  },
  "nbformat": 4,
  "nbformat_minor": 0
}
