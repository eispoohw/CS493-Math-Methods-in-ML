{
  "nbformat": 4,
  "nbformat_minor": 0,
  "metadata": {
    "kernelspec": {
      "display_name": "Python 3",
      "language": "python",
      "name": "python3"
    },
    "language_info": {
      "codemirror_mode": {
        "name": "ipython",
        "version": 3
      },
      "file_extension": ".py",
      "mimetype": "text/x-python",
      "name": "python",
      "nbconvert_exporter": "python",
      "pygments_lexer": "ipython3",
      "version": "3.5.2"
    },
    "colab": {
      "provenance": [],
      "collapsed_sections": [
        "Zpq4QOU5Wg-H",
        "i_7DyyXRWg-K",
        "_JewKs4XU-so",
        "5yiLk1P_xYQ2",
        "VlWxW3e9Wg-m",
        "D39SSh0zWg-r",
        "rhVrgkSaWg_K",
        "XsRf9T_SWg_U",
        "ylKZG2MwWg_f",
        "9hedBdcYWhAH",
        "JrqW55jgWhAR",
        "5QYTwyMtWhAZ",
        "DbJrUpARWhAd",
        "MI18l-l9WhAk",
        "1wrEGqBSWhAr",
        "gStgBJy2WhAx"
      ],
      "include_colab_link": true
    }
  },
  "cells": [
    {
      "cell_type": "markdown",
      "metadata": {
        "id": "view-in-github",
        "colab_type": "text"
      },
      "source": [
        "<a href=\"https://colab.research.google.com/github/eispoohw/CS493-Math-Methods-in-ML/blob/main/lab5.ipynb\" target=\"_parent\"><img src=\"https://colab.research.google.com/assets/colab-badge.svg\" alt=\"Open In Colab\"/></a>"
      ]
    },
    {
      "cell_type": "markdown",
      "metadata": {
        "id": "UHX9p5jfTySS"
      },
      "source": [
        "## Задание 5.1"
      ]
    },
    {
      "cell_type": "markdown",
      "metadata": {
        "id": "0EnHNZtbXlH0"
      },
      "source": [
        "Набор данных тут: https://github.com/sismetanin/rureviews, также есть в папке [Data](https://drive.google.com/drive/folders/1YAMe7MiTxA-RSSd8Ex2p-L0Dspe6Gs4L). Те, кто предпочитает работать с английским языком, могут использовать набор данных `sms_spam`."
      ]
    },
    {
      "cell_type": "markdown",
      "metadata": {
        "id": "bJox-LoonoPx"
      },
      "source": [
        "Применим полученные навыки и решим задачу анализа тональности отзывов. \n",
        "\n",
        "Нужно повторить весь пайплайн от сырых текстов до получения обученной модели.\n",
        "\n",
        "Обязательные шаги предобработки:\n",
        "1. токенизация\n",
        "2. приведение к нижнему регистру\n",
        "3. удаление стоп-слов\n",
        "4. лемматизация\n",
        "5. векторизация (с настройкой гиперпараметров)\n",
        "6. построение модели\n",
        "7. оценка качества модели\n",
        "\n",
        "Обязательно использование векторайзеров:\n",
        "1. мешок n-грамм (диапазон для n подбирайте самостоятельно, запрещено использовать только униграммы).\n",
        "2. tf-idf ((диапазон для n подбирайте самостоятельно, также нужно подбирать гиперпараметры max_df, min_df, max_features)\n",
        "3. символьные n-граммы (диапазон для n подбирайте самостоятельно)\n",
        "\n",
        "В качестве классификатора нужно использовать наивный байесовский классификатор. \n",
        "\n",
        "Для сравнения векторайзеров между собой используйте precision, recall, f1-score и accuracy. Для этого сформируйте датафрейм, в котором в строках будут разные векторайзеры, а в столбцах разные метрики качества, а в  ячейках будут значения этих метрик для соответсвующих векторайзеров."
      ]
    },
    {
      "cell_type": "code",
      "source": [
        "import pandas as pd\n",
        "import numpy as np\n",
        "\n",
        "!gdown 1IKfQNbkGADSFUdyPdVjQS-ucFhOiT6sM"
      ],
      "metadata": {
        "colab": {
          "base_uri": "https://localhost:8080/"
        },
        "id": "b-dw-v_cCIRZ",
        "outputId": "ed4f2527-6455-41fa-9aa4-5a193e43c2c0"
      },
      "execution_count": 1,
      "outputs": [
        {
          "output_type": "stream",
          "name": "stdout",
          "text": [
            "Downloading...\n",
            "From: https://drive.google.com/uc?id=1IKfQNbkGADSFUdyPdVjQS-ucFhOiT6sM\n",
            "To: /content/sms_spam.csv\n",
            "\r  0% 0.00/481k [00:00<?, ?B/s]\r100% 481k/481k [00:00<00:00, 130MB/s]\n"
          ]
        }
      ]
    },
    {
      "cell_type": "code",
      "source": [
        "from sklearn.metrics import * \n",
        "from sklearn.model_selection import train_test_split\n",
        "\n",
        "df = pd.read_csv('sms_spam.csv')\n",
        "X_train, X_test, y_train, y_test = train_test_split(df['text'], df['type'])"
      ],
      "metadata": {
        "id": "1V-LTt4WCPVd"
      },
      "execution_count": 2,
      "outputs": []
    },
    {
      "cell_type": "code",
      "source": [
        "import nltk\n",
        "from nltk.tokenize import word_tokenize\n",
        "from nltk.corpus import stopwords\n",
        "from nltk.stem import WordNetLemmatizer \n",
        "\n",
        "nltk.download('wordnet')\n",
        "nltk.download('stopwords')\n",
        "nltk.download('punkt')\n",
        "nltk.download('omw-1.4')\n",
        "\n",
        "lemmatizer = WordNetLemmatizer()\n",
        "\n",
        "def preprocessing(text: str) -> str:\n",
        "    return ' '.join([lemmatizer.lemmatize(t) for t in word_tokenize(text.lower()) if lemmatizer.lemmatize(t) not in stopwords.words('english')])"
      ],
      "metadata": {
        "colab": {
          "base_uri": "https://localhost:8080/"
        },
        "id": "2VROaAwQm90i",
        "outputId": "d47d3bf9-654b-42ea-9dff-a717a80ee212"
      },
      "execution_count": 3,
      "outputs": [
        {
          "output_type": "stream",
          "name": "stderr",
          "text": [
            "[nltk_data] Downloading package wordnet to /root/nltk_data...\n",
            "[nltk_data]   Package wordnet is already up-to-date!\n",
            "[nltk_data] Downloading package stopwords to /root/nltk_data...\n",
            "[nltk_data]   Package stopwords is already up-to-date!\n",
            "[nltk_data] Downloading package punkt to /root/nltk_data...\n",
            "[nltk_data]   Package punkt is already up-to-date!\n",
            "[nltk_data] Downloading package omw-1.4 to /root/nltk_data...\n",
            "[nltk_data]   Package omw-1.4 is already up-to-date!\n"
          ]
        }
      ]
    },
    {
      "cell_type": "code",
      "source": [
        "from sklearn.naive_bayes import MultinomialNB\n",
        "from sklearn.feature_extraction.text import CountVectorizer\n",
        "from sklearn.feature_extraction.text import TfidfVectorizer\n",
        "\n",
        "ngram = CountVectorizer(\n",
        "    ngram_range=(1, 3), \n",
        "    preprocessor=preprocessing,\n",
        "    max_df=0.3,\n",
        "    min_df=0.001,\n",
        "    max_features=2000\n",
        ")\n",
        "\n",
        "tfidf = TfidfVectorizer(\n",
        "    ngram_range=(1, 1), \n",
        "    preprocessor=preprocessing,\n",
        "    max_df=0.2,\n",
        "    min_df=0.0001,\n",
        "    max_features=1000\n",
        ")\n",
        "\n",
        "chargram = CountVectorizer(\n",
        "    ngram_range=(3, 3), \n",
        "    analyzer='char',\n",
        "    preprocessor=preprocessing,\n",
        "    max_df=0.4,\n",
        "    min_df=0.0001,\n",
        "    max_features=2000\n",
        ")\n",
        "\n",
        "vectorizers = {\n",
        "    'мешок n-грамм': ngram,\n",
        "    'tf-idf': tfidf,\n",
        "    'символьные n-граммы': chargram\n",
        "}"
      ],
      "metadata": {
        "id": "puhZKM1NtZyN"
      },
      "execution_count": 4,
      "outputs": []
    },
    {
      "cell_type": "code",
      "source": [
        "clf = MultinomialNB()\n",
        "\n",
        "metriks = pd.DataFrame()\n",
        "\n",
        "for v in vectorizers:\n",
        "    train = vectorizers[v].fit_transform(X_train)\n",
        "    clf.fit(train, y_train)\n",
        "    pred = clf.predict(vectorizers[v].transform(X_test))\n",
        "    m = precision_recall_fscore_support(y_test, pred, average='weighted')\n",
        "    metriks = metriks.append({'vectorizer': v, 'precision': m[0], 'recall': m[1], 'fscore': m[2], 'accuracy': accuracy_score(y_test, pred)}, ignore_index=True)\n",
        "\n",
        "metriks.set_index(['vectorizer'])"
      ],
      "metadata": {
        "colab": {
          "base_uri": "https://localhost:8080/",
          "height": 175
        },
        "id": "PgcGI1dw24b6",
        "outputId": "a9c7aa9b-ab72-4df1-cb9a-5af5cade0935"
      },
      "execution_count": 5,
      "outputs": [
        {
          "output_type": "execute_result",
          "data": {
            "text/plain": [
              "                     precision    recall    fscore  accuracy\n",
              "vectorizer                                                  \n",
              "мешок n-грамм         0.981095  0.981295  0.981090  0.981295\n",
              "tf-idf                0.977519  0.977698  0.977221  0.977698\n",
              "символьные n-граммы   0.976555  0.976259  0.976383  0.976259"
            ],
            "text/html": [
              "\n",
              "  <div id=\"df-d16d88c7-310f-42a0-98b5-158d69bace4c\">\n",
              "    <div class=\"colab-df-container\">\n",
              "      <div>\n",
              "<style scoped>\n",
              "    .dataframe tbody tr th:only-of-type {\n",
              "        vertical-align: middle;\n",
              "    }\n",
              "\n",
              "    .dataframe tbody tr th {\n",
              "        vertical-align: top;\n",
              "    }\n",
              "\n",
              "    .dataframe thead th {\n",
              "        text-align: right;\n",
              "    }\n",
              "</style>\n",
              "<table border=\"1\" class=\"dataframe\">\n",
              "  <thead>\n",
              "    <tr style=\"text-align: right;\">\n",
              "      <th></th>\n",
              "      <th>precision</th>\n",
              "      <th>recall</th>\n",
              "      <th>fscore</th>\n",
              "      <th>accuracy</th>\n",
              "    </tr>\n",
              "    <tr>\n",
              "      <th>vectorizer</th>\n",
              "      <th></th>\n",
              "      <th></th>\n",
              "      <th></th>\n",
              "      <th></th>\n",
              "    </tr>\n",
              "  </thead>\n",
              "  <tbody>\n",
              "    <tr>\n",
              "      <th>мешок n-грамм</th>\n",
              "      <td>0.981095</td>\n",
              "      <td>0.981295</td>\n",
              "      <td>0.981090</td>\n",
              "      <td>0.981295</td>\n",
              "    </tr>\n",
              "    <tr>\n",
              "      <th>tf-idf</th>\n",
              "      <td>0.977519</td>\n",
              "      <td>0.977698</td>\n",
              "      <td>0.977221</td>\n",
              "      <td>0.977698</td>\n",
              "    </tr>\n",
              "    <tr>\n",
              "      <th>символьные n-граммы</th>\n",
              "      <td>0.976555</td>\n",
              "      <td>0.976259</td>\n",
              "      <td>0.976383</td>\n",
              "      <td>0.976259</td>\n",
              "    </tr>\n",
              "  </tbody>\n",
              "</table>\n",
              "</div>\n",
              "      <button class=\"colab-df-convert\" onclick=\"convertToInteractive('df-d16d88c7-310f-42a0-98b5-158d69bace4c')\"\n",
              "              title=\"Convert this dataframe to an interactive table.\"\n",
              "              style=\"display:none;\">\n",
              "        \n",
              "  <svg xmlns=\"http://www.w3.org/2000/svg\" height=\"24px\"viewBox=\"0 0 24 24\"\n",
              "       width=\"24px\">\n",
              "    <path d=\"M0 0h24v24H0V0z\" fill=\"none\"/>\n",
              "    <path d=\"M18.56 5.44l.94 2.06.94-2.06 2.06-.94-2.06-.94-.94-2.06-.94 2.06-2.06.94zm-11 1L8.5 8.5l.94-2.06 2.06-.94-2.06-.94L8.5 2.5l-.94 2.06-2.06.94zm10 10l.94 2.06.94-2.06 2.06-.94-2.06-.94-.94-2.06-.94 2.06-2.06.94z\"/><path d=\"M17.41 7.96l-1.37-1.37c-.4-.4-.92-.59-1.43-.59-.52 0-1.04.2-1.43.59L10.3 9.45l-7.72 7.72c-.78.78-.78 2.05 0 2.83L4 21.41c.39.39.9.59 1.41.59.51 0 1.02-.2 1.41-.59l7.78-7.78 2.81-2.81c.8-.78.8-2.07 0-2.86zM5.41 20L4 18.59l7.72-7.72 1.47 1.35L5.41 20z\"/>\n",
              "  </svg>\n",
              "      </button>\n",
              "      \n",
              "  <style>\n",
              "    .colab-df-container {\n",
              "      display:flex;\n",
              "      flex-wrap:wrap;\n",
              "      gap: 12px;\n",
              "    }\n",
              "\n",
              "    .colab-df-convert {\n",
              "      background-color: #E8F0FE;\n",
              "      border: none;\n",
              "      border-radius: 50%;\n",
              "      cursor: pointer;\n",
              "      display: none;\n",
              "      fill: #1967D2;\n",
              "      height: 32px;\n",
              "      padding: 0 0 0 0;\n",
              "      width: 32px;\n",
              "    }\n",
              "\n",
              "    .colab-df-convert:hover {\n",
              "      background-color: #E2EBFA;\n",
              "      box-shadow: 0px 1px 2px rgba(60, 64, 67, 0.3), 0px 1px 3px 1px rgba(60, 64, 67, 0.15);\n",
              "      fill: #174EA6;\n",
              "    }\n",
              "\n",
              "    [theme=dark] .colab-df-convert {\n",
              "      background-color: #3B4455;\n",
              "      fill: #D2E3FC;\n",
              "    }\n",
              "\n",
              "    [theme=dark] .colab-df-convert:hover {\n",
              "      background-color: #434B5C;\n",
              "      box-shadow: 0px 1px 3px 1px rgba(0, 0, 0, 0.15);\n",
              "      filter: drop-shadow(0px 1px 2px rgba(0, 0, 0, 0.3));\n",
              "      fill: #FFFFFF;\n",
              "    }\n",
              "  </style>\n",
              "\n",
              "      <script>\n",
              "        const buttonEl =\n",
              "          document.querySelector('#df-d16d88c7-310f-42a0-98b5-158d69bace4c button.colab-df-convert');\n",
              "        buttonEl.style.display =\n",
              "          google.colab.kernel.accessAllowed ? 'block' : 'none';\n",
              "\n",
              "        async function convertToInteractive(key) {\n",
              "          const element = document.querySelector('#df-d16d88c7-310f-42a0-98b5-158d69bace4c');\n",
              "          const dataTable =\n",
              "            await google.colab.kernel.invokeFunction('convertToInteractive',\n",
              "                                                     [key], {});\n",
              "          if (!dataTable) return;\n",
              "\n",
              "          const docLinkHtml = 'Like what you see? Visit the ' +\n",
              "            '<a target=\"_blank\" href=https://colab.research.google.com/notebooks/data_table.ipynb>data table notebook</a>'\n",
              "            + ' to learn more about interactive tables.';\n",
              "          element.innerHTML = '';\n",
              "          dataTable['output_type'] = 'display_data';\n",
              "          await google.colab.output.renderOutput(dataTable, element);\n",
              "          const docLink = document.createElement('div');\n",
              "          docLink.innerHTML = docLinkHtml;\n",
              "          element.appendChild(docLink);\n",
              "        }\n",
              "      </script>\n",
              "    </div>\n",
              "  </div>\n",
              "  "
            ]
          },
          "metadata": {},
          "execution_count": 5
        }
      ]
    },
    {
      "cell_type": "markdown",
      "metadata": {
        "id": "5QYTwyMtWhAZ"
      },
      "source": [
        "## Задание 5.2 Регулярные выражения\n",
        "\n",
        "Регулярные выражения - способ поиска и анализа строк. Например, можно понять, какие даты в наборе строк представлены в формате DD/MM/YYYY, а какие - в других форматах. \n",
        "\n",
        "Или бывает, например, что перед работой с текстом, надо почистить его от своеобразного мусора: упоминаний пользователей, url и так далее.\n",
        "\n",
        "Навык полезный, давайте в нём тоже потренируемся.\n",
        "\n",
        "Для работы с регулярными выражениями есть библиотека **re**"
      ]
    },
    {
      "cell_type": "code",
      "metadata": {
        "id": "VaUW5S4gWhAb"
      },
      "source": [
        "import re"
      ],
      "execution_count": 6,
      "outputs": []
    },
    {
      "cell_type": "markdown",
      "metadata": {
        "id": "D6aYh7Osl8xr"
      },
      "source": [
        "В регулярных выражениях, кроме привычных символов-букв, есть специальные символы:\n",
        "* **?а** - ноль или один символ **а**\n",
        "* **+а** - один или более символов **а**\n",
        "* **\\*а** - ноль или более символов **а** (не путать с +)\n",
        "* **.** - любое количество любого символа\n",
        "\n",
        "Пример:\n",
        "Выражению \\*a?b. соответствуют последовательности a, ab, abc, aa, aac НО НЕ abb!"
      ]
    },
    {
      "cell_type": "markdown",
      "metadata": {
        "id": "q7zOFFA3l_KQ"
      },
      "source": [
        "Рассмотрим подробно несколько наиболее полезных функций:"
      ]
    },
    {
      "cell_type": "markdown",
      "metadata": {
        "id": "DbJrUpARWhAd"
      },
      "source": [
        "### findall\n",
        "возвращает список всех найденных непересекающихся совпадений.\n",
        "\n",
        "Регулярное выражение **ab+c.**: \n",
        "* **a** - просто символ **a**\n",
        "* **b+** - один или более символов **b**\n",
        "* **c** - просто символ **c**\n",
        "* **.** - любой символ\n"
      ]
    },
    {
      "cell_type": "code",
      "metadata": {
        "id": "2athHzKuWhAd",
        "colab": {
          "base_uri": "https://localhost:8080/"
        },
        "outputId": "03e40730-c0fd-4fff-c6d0-876f1f197af1"
      },
      "source": [
        "result = re.findall('ab+c.', 'abcdefghijkabcabcxabc') \n",
        "print(result)"
      ],
      "execution_count": 7,
      "outputs": [
        {
          "output_type": "stream",
          "name": "stdout",
          "text": [
            "['abcd', 'abca']\n"
          ]
        }
      ]
    },
    {
      "cell_type": "markdown",
      "metadata": {
        "id": "A9FpIw5RWhAf"
      },
      "source": [
        "Вопрос на внимательность: почему нет abcx?\n",
        "\n",
        "*- Так как возвращаются все непересекающиеся значения, для abcx нет свободного символа a*"
      ]
    },
    {
      "cell_type": "markdown",
      "metadata": {
        "id": "B5ttzoxEWhAg"
      },
      "source": [
        "**Задание**: вернуть список первых двух букв каждого слова в строке, состоящей из нескольких слов."
      ]
    },
    {
      "cell_type": "code",
      "metadata": {
        "id": "7ZR2AEq3WhAg",
        "colab": {
          "base_uri": "https://localhost:8080/"
        },
        "outputId": "7bd10a0c-c24f-41f8-d744-a63ff324ef24"
      },
      "source": [
        "pattern = r'\\b[a-zA-Z]{2}'\n",
        "row = 'abcd e f5ghk  lm nop q'\n",
        "result = re.findall(pattern, row)\n",
        "result"
      ],
      "execution_count": 8,
      "outputs": [
        {
          "output_type": "execute_result",
          "data": {
            "text/plain": [
              "['ab', 'lm', 'no']"
            ]
          },
          "metadata": {},
          "execution_count": 8
        }
      ]
    },
    {
      "cell_type": "markdown",
      "metadata": {
        "id": "MI18l-l9WhAk"
      },
      "source": [
        "### split\n",
        "разделяет строку по заданному шаблону\n"
      ]
    },
    {
      "cell_type": "code",
      "metadata": {
        "id": "sVKdRoc1WhAl",
        "colab": {
          "base_uri": "https://localhost:8080/"
        },
        "outputId": "8df13128-b43f-4c70-9603-31c108975b60"
      },
      "source": [
        "result = re.split(',', 'itsy, bitsy, teenie, weenie') \n",
        "print(result)"
      ],
      "execution_count": 9,
      "outputs": [
        {
          "output_type": "stream",
          "name": "stdout",
          "text": [
            "['itsy', ' bitsy', ' teenie', ' weenie']\n"
          ]
        }
      ]
    },
    {
      "cell_type": "markdown",
      "metadata": {
        "id": "10u5efuSWhAm"
      },
      "source": [
        "можно указать максимальное количество разбиений"
      ]
    },
    {
      "cell_type": "code",
      "metadata": {
        "id": "9U9EQZMwWhAn",
        "colab": {
          "base_uri": "https://localhost:8080/"
        },
        "outputId": "242cb9b9-836b-4a65-c5b1-d1187c1ab1dd"
      },
      "source": [
        "result = re.split(',', 'itsy, bitsy, teenie, weenie', maxsplit=2) \n",
        "print(result)"
      ],
      "execution_count": 10,
      "outputs": [
        {
          "output_type": "stream",
          "name": "stdout",
          "text": [
            "['itsy', ' bitsy', ' teenie, weenie']\n"
          ]
        }
      ]
    },
    {
      "cell_type": "markdown",
      "metadata": {
        "id": "0EMcMyflWhAp"
      },
      "source": [
        "**Задание**: разбейте строку, состоящую из нескольких предложений, по точкам, но не более чем на 3 предложения."
      ]
    },
    {
      "cell_type": "code",
      "metadata": {
        "id": "dVgPSjEOWhAp",
        "colab": {
          "base_uri": "https://localhost:8080/"
        },
        "outputId": "ffbd725c-61e7-4cc2-e626-47f9c861629f"
      },
      "source": [
        "row = 'One two, three. Four five! Six se-ven. Eight. Nine. Ten.'\n",
        "result = re.split('\\.[^\\b]', row, maxsplit=2)\n",
        "result"
      ],
      "execution_count": 11,
      "outputs": [
        {
          "output_type": "execute_result",
          "data": {
            "text/plain": [
              "['One two, three', 'Four five! Six se-ven', 'Eight. Nine. Ten.']"
            ]
          },
          "metadata": {},
          "execution_count": 11
        }
      ]
    },
    {
      "cell_type": "markdown",
      "metadata": {
        "id": "1wrEGqBSWhAr"
      },
      "source": [
        "### sub\n",
        "ищет шаблон в строке и заменяет все совпадения на указанную подстроку\n",
        "\n",
        "параметры: (pattern, repl, string)"
      ]
    },
    {
      "cell_type": "code",
      "metadata": {
        "id": "az3KxKWwWhAr",
        "colab": {
          "base_uri": "https://localhost:8080/"
        },
        "outputId": "9a864c58-6e0b-4f8c-a273-4a74cbb77026"
      },
      "source": [
        "result = re.sub('a', 'b', 'abcabc')\n",
        "print (result)"
      ],
      "execution_count": 12,
      "outputs": [
        {
          "output_type": "stream",
          "name": "stdout",
          "text": [
            "bbcbbc\n"
          ]
        }
      ]
    },
    {
      "cell_type": "markdown",
      "metadata": {
        "id": "qD0n7_HPWhAt"
      },
      "source": [
        "**Задание**: напишите регулярное выражение, которое позволит заменить все цифры в строке на \"DIG\"."
      ]
    },
    {
      "cell_type": "code",
      "metadata": {
        "id": "s_Sdu7xlWhAu",
        "colab": {
          "base_uri": "https://localhost:8080/",
          "height": 35
        },
        "outputId": "46a03b5a-1c3c-40d6-a463-9e2eed31de51"
      },
      "source": [
        "row = \"123 4 5abra 6cadabra7 8910\"\n",
        "result = re.sub('\\d+', 'DIG', row)\n",
        "result"
      ],
      "execution_count": 13,
      "outputs": [
        {
          "output_type": "execute_result",
          "data": {
            "text/plain": [
              "'DIG DIG DIGabra DIGcadabraDIG DIG'"
            ],
            "application/vnd.google.colaboratory.intrinsic+json": {
              "type": "string"
            }
          },
          "metadata": {},
          "execution_count": 13
        }
      ]
    },
    {
      "cell_type": "markdown",
      "source": [],
      "metadata": {
        "id": "5bP_s9tOvZMY"
      }
    },
    {
      "cell_type": "markdown",
      "metadata": {
        "id": "b8__oi1PWhAv"
      },
      "source": [
        "**Задание**: напишите  регулярное выражение, которое позволит убрать url из строки."
      ]
    },
    {
      "cell_type": "markdown",
      "source": [
        "![image.png](data:image/png;base64,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)"
      ],
      "metadata": {
        "id": "Caq7M_Xp4SE4"
      }
    },
    {
      "cell_type": "code",
      "metadata": {
        "id": "KwNS9zt4WhAv",
        "colab": {
          "base_uri": "https://localhost:8080/",
          "height": 35
        },
        "outputId": "d2137b05-fe67-4502-c650-94de06b54da7"
      },
      "source": [
        "# Source: https://habr.com/ru/post/232385/  \n",
        "# не используется userinfo и fragment, так как пароль могут содержать любые символы\n",
        "\n",
        "row = \"piazza.com/class https://leetcode.com/problemset/all/?difficulty=HARDpage=1 _ww3.example.com/index.html localhost:9999/\"\n",
        "\n",
        "scheme = r\"([A-Za-z][\\w+.-]+:)?\"\n",
        "\n",
        "domain = r\"[A-Za-z0-9][\\w-]*\\w\"\n",
        "port = \"(:[0-9]{1,5})?\"\n",
        "host = f\"((({domain}\\.)+{domain})|localhost){port}\"\n",
        "\n",
        "path = r\"(/[!$&'()*+,;=%-\\._~:@\\w]+)*\"\n",
        "query = r\"[?]([\\w%]+=[\\w%]*)(&[\\w%]+=[\\w%]*)*&?\"\n",
        "\n",
        "pattern = f\"\\\\b{scheme}(//)?{host}{path}/?({query})?\"\n",
        "\n",
        "result = re.sub(pattern, 'url', row, )\n",
        "result"
      ],
      "execution_count": 14,
      "outputs": [
        {
          "output_type": "execute_result",
          "data": {
            "text/plain": [
              "'url url=1 _ww3.url url'"
            ],
            "application/vnd.google.colaboratory.intrinsic+json": {
              "type": "string"
            }
          },
          "metadata": {},
          "execution_count": 14
        }
      ]
    },
    {
      "cell_type": "markdown",
      "metadata": {
        "id": "gStgBJy2WhAx"
      },
      "source": [
        "### compile\n",
        "компилирует регулярное выражение в отдельный объект"
      ]
    },
    {
      "cell_type": "code",
      "metadata": {
        "id": "JstTupisWhAy",
        "colab": {
          "base_uri": "https://localhost:8080/"
        },
        "outputId": "6690bc1d-7c85-4276-9cc8-abf5a5478afd"
      },
      "source": [
        "# Пример: построение списка всех слов строки:\n",
        "prog = re.compile('[А-Яа-яё\\-]+')\n",
        "prog.findall(\"Слова? Да, больше, ещё больше слов! Что-то ещё.\")"
      ],
      "execution_count": 15,
      "outputs": [
        {
          "output_type": "execute_result",
          "data": {
            "text/plain": [
              "['Слова', 'Да', 'больше', 'ещё', 'больше', 'слов', 'Что-то', 'ещё']"
            ]
          },
          "metadata": {},
          "execution_count": 15
        }
      ]
    },
    {
      "cell_type": "markdown",
      "metadata": {
        "id": "WXEXc3G0WhA2"
      },
      "source": [
        "**Задание**: для выбранной строки постройте список слов, которые длиннее трех символов."
      ]
    },
    {
      "cell_type": "code",
      "metadata": {
        "id": "nFvnIWbUWhA2",
        "colab": {
          "base_uri": "https://localhost:8080/"
        },
        "outputId": "0b42965f-8cba-46d2-cff6-b9d7173c9d83"
      },
      "source": [
        "row = \"Слова? Да, больше, ещё больше слов! Что-то ещё.\"\n",
        "prog = re.compile('[А-Яа-яё-]{4,}')\n",
        "prog.findall(row)"
      ],
      "execution_count": 16,
      "outputs": [
        {
          "output_type": "execute_result",
          "data": {
            "text/plain": [
              "['Слова', 'больше', 'больше', 'слов', 'Что-то']"
            ]
          },
          "metadata": {},
          "execution_count": 16
        }
      ]
    },
    {
      "cell_type": "markdown",
      "metadata": {
        "id": "SQDNZ3HQWhA3"
      },
      "source": [
        "**Задание**: вернуть список доменов (@gmail.com) из списка адресов электронной почты:\n",
        "\n",
        "```\n",
        "abc.test@gmail.com, xyz@test.in, test.first@analyticsvidhya.com, first.test@rest.biz\n",
        "```"
      ]
    },
    {
      "cell_type": "code",
      "source": [
        "row = \"abc.test@gmail.com, xyz@test.in, test.first@analyticsvidhya.com, first.test@rest.biz\"\n",
        "prog = re.compile(r'(?<=@)(\\w[\\w-]*\\w(?:\\.\\w[\\w-]*\\w)*)\\b')\n",
        "prog.findall(row)"
      ],
      "metadata": {
        "colab": {
          "base_uri": "https://localhost:8080/"
        },
        "id": "48ONXYQUwsdA",
        "outputId": "2b8e6555-3865-47a8-a33e-7febbf6947f5"
      },
      "execution_count": 17,
      "outputs": [
        {
          "output_type": "execute_result",
          "data": {
            "text/plain": [
              "['gmail.com', 'test.in', 'analyticsvidhya.com', 'rest.biz']"
            ]
          },
          "metadata": {},
          "execution_count": 17
        }
      ]
    }
  ]
}