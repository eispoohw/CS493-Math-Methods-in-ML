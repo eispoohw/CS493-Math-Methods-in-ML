{
  "cells": [
    {
      "cell_type": "markdown",
      "metadata": {
        "id": "view-in-github",
        "colab_type": "text"
      },
      "source": [
        "<a href=\"https://colab.research.google.com/github/eispoohw/CS493-Math-Methods-in-ML/blob/main/lab%204.ipynb\" target=\"_parent\"><img src=\"https://colab.research.google.com/assets/colab-badge.svg\" alt=\"Open In Colab\"/></a>"
      ]
    },
    {
      "cell_type": "markdown",
      "metadata": {
        "id": "hGClrhQA9SAk"
      },
      "source": [
        "# Деревья решений"
      ]
    },
    {
      "cell_type": "markdown",
      "metadata": {
        "id": "veekMy8WRjBi"
      },
      "source": [
        "## Построение дерева"
      ]
    },
    {
      "cell_type": "markdown",
      "metadata": {
        "id": "SYkVwAFiUHXj"
      },
      "source": [
        "Опишем жадный алгоритм построения бинарного дерева решений:\n",
        "1. Начинаем со всей обучающей выборки $X$, которую помещаем в корень $R_1$. \n",
        "2. Задаём функционал качества $Q(X, j, t)$ и критерий остановки. \n",
        "3. Запускаем построение из корня: $SplitNode(1, R_1)$\n",
        "\n",
        "Функция $SplitNode(m, R_m)$\n",
        "1. Если выполнен критерий остановки, то выход.\n",
        "2. Находим наилучший с точки зрения $Q$ предикат: $j, t$: $[x_j<t]$\n",
        "3. Помещаем предикат в вкршину и получаем с его помощью разбиение $X$ на две части: $R_{left} = \\lbrace x|x_j<t \\rbrace$ и $R_{right} = \\lbrace x|x_j \\geqslant t \\rbrace$\n",
        "4. Поместим $R_{left}$ и $R_{right}$ соответсвенно в левое и правое поддерево.\n",
        "5. Рекурсивно повторяем $SplitNode(left, R_{left})$ и $SplitNode(right, R_{right})$.\n",
        "\n",
        "В конце поставим в соответствие каждому листу ответ. Для задачи классификации - это самый частый среди объектов класс или вектор с долями классов (можно интерпретировать как вероятности):\n",
        "$$ c_v = \\arg \\max_{k\\in Y} \\sum_{(x_i,y_i) \\in R_v} [y_i=k]  $$"
      ]
    },
    {
      "cell_type": "markdown",
      "metadata": {
        "id": "9P6FsdBog4Ai"
      },
      "source": [
        "## Функционал качества для деревьев решений\n"
      ]
    },
    {
      "cell_type": "markdown",
      "metadata": {
        "id": "9VAKO0aykGBD"
      },
      "source": [
        "Энтропия Шеннона для системы с N возможными состояниями определяется по формуле:\n",
        "$$H = - \\sum_{i=0}^{N} p_i\\log_2p_i $$"
      ]
    },
    {
      "cell_type": "markdown",
      "metadata": {
        "id": "5582B-1Fn2bw"
      },
      "source": [
        "где $p_i$ – вероятности нахождения системы в $i$-ом состоянии. \n",
        "\n",
        "Это очень важное понятие теории информации, которое позволяет оценить количество информации (степень хаоса в системе). Чем выше энтропия, тем менее упорядочена система и наоборот. С помощью энтропии мы формализуем функционал качества для разделение выборки (для задачи классификации)."
      ]
    },
    {
      "cell_type": "code",
      "execution_count": 1,
      "metadata": {
        "id": "PbcMUd7bvk05"
      },
      "outputs": [],
      "source": [
        "import numpy as np\n",
        "import pandas as pd\n",
        "\n",
        "import matplotlib.pyplot as plt\n",
        "\n",
        "import random\n",
        "from pprint import pprint"
      ]
    },
    {
      "cell_type": "markdown",
      "metadata": {
        "id": "4AdLxP9CowTm"
      },
      "source": [
        "Код для расчёта энтропии:"
      ]
    },
    {
      "cell_type": "code",
      "execution_count": 2,
      "metadata": {
        "id": "2mT8Jq8Av2sM"
      },
      "outputs": [],
      "source": [
        "def entropy(y):\n",
        "    \n",
        "    _, counts = np.unique(y, return_counts=True)\n",
        "\n",
        "    probabilities = counts / counts.sum()\n",
        "    entropy = sum(probabilities * -np.log2(probabilities))\n",
        "     \n",
        "    return entropy"
      ]
    },
    {
      "cell_type": "markdown",
      "metadata": {
        "id": "Xk9etb2vo7fK"
      },
      "source": [
        "Здесь $y$ - это массив значений целевой переменной"
      ]
    },
    {
      "cell_type": "markdown",
      "metadata": {
        "id": "07TCw0USzLus"
      },
      "source": [
        "Энтропия – по сути степень хаоса (или неопределенности) в системе. Уменьшение энтропии называют приростом информации (information gain, IG).\n",
        "\n",
        "Обочначим $R_v$ - объекты, которые нужно разделить в помощью предиката в вершине $v$. Запишем формулу для расчёта информационного прироста:\n",
        "$$ Q = IG = H(R_v) - (H(R_{left})+H(R_{right}))$$\n",
        "\n",
        "На каждом шаге нам нужно максимизировать этот функционал качества. Как это делать? Например, так можно перебрать $t$ для выбранного $j$."
      ]
    },
    {
      "cell_type": "markdown",
      "metadata": {
        "id": "trEWHDoXg_p9"
      },
      "source": [
        "Предыдущая версия формулы прироста информации слишком упрощена. В работе необходимо использовать более устойчивую формулу, которая учитывает не только энтропию подмножеств, но и их размер. \n",
        "\n",
        "$$ Q = IG = H(R_v) - \\Big (\\frac{|R_{left}|} {|R_{v}|} H(R_{left})+ \\frac{|R_{right}|} {|R_{v}|} H(R_{right})\\Big)$$\n",
        "\n",
        "где, $|R_{v}|$, $|R_{left}|$ и $|R_{right}|$ - количество элементов в соответствующих множествах."
      ]
    },
    {
      "cell_type": "markdown",
      "metadata": {
        "id": "9xmN6V_N1xBr"
      },
      "source": [
        "\n",
        "### Задание 4.1"
      ]
    },
    {
      "cell_type": "markdown",
      "metadata": {
        "id": "nWFHZScF2CBF"
      },
      "source": [
        "Реализуйте алгоритм построения дерева. Должны быть отдельные функции (методы) для расчёта энтропии (уже есть), для разделения дерева (используйте `pandas`), для подсчёта функционала качества $IG$, для выбора наилучшего разделения (с учетом признакоd и порогов), для проверки критерия остановки.\n",
        "\n",
        "Для набора данных `iris` реализуйте алгоритм и минимум три из разными критерия остановки из перечисленных ниже:\n",
        "* максимальной глубины дерева = 5\n",
        "* минимального числа объектов в листе = 5\n",
        "* максимальное количество листьев в дереве = 5\n",
        "* purity (остановка, если все объекты в листе относятся к одному классу)\n",
        "\n",
        "Реализуйте функцию `predict` (на вход функции подаётся датафрейм с объектами)\n",
        "\n",
        "Оцените точность каждой модели с помощью метрики доля правильных ответов (`from sklearn.metrics import accuracy_score` или реализовать свою)."
      ]
    },
    {
      "cell_type": "code",
      "execution_count": 3,
      "metadata": {
        "id": "OjL5XrdHUPqO"
      },
      "outputs": [],
      "source": [
        "from sklearn.metrics import accuracy_score\n",
        "from collections import Counter\n",
        "\n",
        "class TreeNode:\n",
        "    def __init__(self):\n",
        "        self.predicateBound: float = None # dividing value\n",
        "        self.predicateName: str = None # feature in predicate\n",
        "        self.left: TreeNode = None \n",
        "        self.right: TreeNode = None\n",
        "        self.val = None # if Node is a leaf\n",
        "\n",
        "\n",
        "class DecisionTree:\n",
        "    def __init__(self, depth=None, objectsInLeaf=None, purity=True):\n",
        "        if not objectsInLeaf:\n",
        "            objectsInLeaf = 1\n",
        "        self.depth = depth    \n",
        "        self.objectsInLeaf = objectsInLeaf\n",
        "        self.purity = purity\n",
        "\n",
        "    def fit(self, X, y) -> TreeNode:\n",
        "        self.features = X.columns\n",
        "        if not self.depth:\n",
        "            self.depth = len(y)\n",
        "        self.root = self.splitNode(X, y, 1)\n",
        "        return self.root\n",
        "\n",
        "    def splitNode(self, X, y, depth) -> TreeNode:\n",
        "        node = TreeNode()\n",
        "        if depth == self.depth or self.purity and self.entropy(y) == 0:\n",
        "            node.val = self.getNodeVal(y)\n",
        "            return node\n",
        "        df = X.copy()\n",
        "        df['target'] = y\n",
        "        maxIG, dfR, dfL = 0, None, None\n",
        "        # searching max IG through each unique value of each feature \n",
        "        for f in self.features:\n",
        "            for value in set(X[f]):\n",
        "                dfRight = df[df[f] >= value]\n",
        "                dfLeft = df[df[f] < value]\n",
        "                # min objects in leaf criteria\n",
        "                if len(dfRight) < self.objectsInLeaf or len(dfLeft) < self.objectsInLeaf:\n",
        "                    continue\n",
        "                IG = self.IG(y, dfRight['target'], dfLeft['target'])\n",
        "                if IG > maxIG:\n",
        "                    maxIG = IG\n",
        "                    node.predicateName = f\n",
        "                    node.predicateBound = value\n",
        "                    dfR, dfL = dfRight, dfLeft\n",
        "        if maxIG == 0:\n",
        "            node.val = self.getNodeVal(y)\n",
        "            return node\n",
        "        node.left = self.splitNode(dfL.drop(['target'], axis=1), dfL['target'], depth + 1)\n",
        "        node.right = self.splitNode(dfR.drop(['target'], axis=1), dfR['target'], depth + 1)\n",
        "        return node\n",
        "\n",
        "    def predict(self, X):\n",
        "        res = np.array([])\n",
        "        for i in range(len(X)):\n",
        "            res = np.append(res, self.checkNode(self.root, X.iloc[[i]]))\n",
        "        return res\n",
        "\n",
        "    def checkNode(self, node, x):\n",
        "        if node.left is None and node.right is None:\n",
        "            return node.val\n",
        "        if x[node.predicateName].iloc[0] < node.predicateBound:\n",
        "            return self.checkNode(node.left, x)\n",
        "        return self.checkNode(node.right, x)\n",
        "\n",
        "    def getNodeVal(self, y):\n",
        "        classCounts = Counter(y)\n",
        "        res = \"\"\n",
        "        maxval = 0\n",
        "        for c in classCounts:\n",
        "            if classCounts[c] > maxval:\n",
        "                maxval = classCounts[c]\n",
        "                res = c\n",
        "        return res\n",
        "\n",
        "    def entropy(self, y):\n",
        "        return entropy(y)\n",
        "\n",
        "    def IG(self, prev, left, right):\n",
        "        return self.entropy(prev) - (len(left)/len(prev)*self.entropy(left) + len(right)/len(prev)*self.entropy(right))\n",
        "\n",
        "    def accuracy(self, predict, real):\n",
        "        return accuracy_score(real, predict)\n",
        "\n",
        "    def showTree(self, node, parentdepth=0):\n",
        "        if parentdepth == 0:\n",
        "            print(\"DecisionTree: \")\n",
        "            print(f\"- max-depth: {self.depth}\\n- min-objects-in-leaf: {self.objectsInLeaf}\\n- purity: {self.purity}\\n\")\n",
        "        startChars = \"|  \" * parentdepth + \"|__\"\n",
        "        if node.left is None and node.right is None:\n",
        "            print(startChars + f\"class: {node.val}\")\n",
        "        else:\n",
        "            print(startChars +  node.predicateName + \" <\", node.predicateBound)\n",
        "            self.showTree(node.left, parentdepth + 1)\n",
        "            self.showTree(node.right, parentdepth + 1)\n"
      ]
    },
    {
      "cell_type": "code",
      "execution_count": 4,
      "metadata": {
        "id": "8LEj_vXhfdVM"
      },
      "outputs": [],
      "source": [
        "from sklearn import datasets\n",
        "from sklearn.model_selection import train_test_split, cross_val_score\n",
        "\n",
        "iris = datasets.load_iris()\n",
        "\n",
        "X_train, X_test, y_train, y_test = train_test_split(iris.data, iris.target, random_state=239, test_size=0.33)\n",
        "X_train = pd.DataFrame(X_train, columns=iris['feature_names'])\n",
        "X_test = pd.DataFrame(X_test, columns=iris['feature_names'])"
      ]
    },
    {
      "cell_type": "markdown",
      "source": [
        "Рассмотрим деревья с различными критериями остановки и их accuracy"
      ],
      "metadata": {
        "id": "sxiGlJOJ8Dzd"
      }
    },
    {
      "cell_type": "code",
      "execution_count": 5,
      "metadata": {
        "colab": {
          "base_uri": "https://localhost:8080/"
        },
        "id": "bc-2AaY87JFl",
        "outputId": "54c7a9df-94a1-4876-99f4-1a9f1db51ca3"
      },
      "outputs": [
        {
          "output_type": "stream",
          "name": "stdout",
          "text": [
            "DecisionTree: \n",
            "- max-depth: 5\n",
            "- min-objects-in-leaf: 5\n",
            "- purity: True\n",
            "\n",
            "|__petal length (cm) < 3.0\n",
            "|  |__class: 0\n",
            "|  |__petal length (cm) < 5.1\n",
            "|  |  |__petal width (cm) < 1.7\n",
            "|  |  |  |__class: 1\n",
            "|  |  |  |__class: 2\n",
            "|  |  |__class: 2\n",
            "\n",
            "Accuracy:  "
          ]
        },
        {
          "output_type": "execute_result",
          "data": {
            "text/plain": [
              "0.96"
            ]
          },
          "metadata": {},
          "execution_count": 5
        }
      ],
      "source": [
        "dt = DecisionTree(depth=5, objectsInLeaf=5, purity=True)\n",
        "\n",
        "dt.fit(X_train, y_train)\n",
        "dt.showTree(dt.root)\n",
        "\n",
        "print(\"\\nAccuracy: \", end=\" \")\n",
        "dt.accuracy(dt.predict(X_test), y_test)"
      ]
    },
    {
      "cell_type": "code",
      "execution_count": 6,
      "metadata": {
        "colab": {
          "base_uri": "https://localhost:8080/"
        },
        "id": "sS0ul4XlOH3j",
        "outputId": "eda1745b-e12c-4fb8-bcdb-8f55daafbfe3"
      },
      "outputs": [
        {
          "output_type": "stream",
          "name": "stdout",
          "text": [
            "DecisionTree: \n",
            "- max-depth: 100\n",
            "- min-objects-in-leaf: 1\n",
            "- purity: True\n",
            "\n",
            "|__petal length (cm) < 3.0\n",
            "|  |__class: 0\n",
            "|  |__petal length (cm) < 5.1\n",
            "|  |  |__petal width (cm) < 1.7\n",
            "|  |  |  |__class: 1\n",
            "|  |  |  |__sepal width (cm) < 3.0\n",
            "|  |  |  |  |__class: 2\n",
            "|  |  |  |  |__sepal length (cm) < 6.7\n",
            "|  |  |  |  |  |__sepal length (cm) < 6.0\n",
            "|  |  |  |  |  |  |__class: 1\n",
            "|  |  |  |  |  |  |__class: 2\n",
            "|  |  |  |  |  |__class: 1\n",
            "|  |  |__class: 2\n",
            "\n",
            "Accuracy:  "
          ]
        },
        {
          "output_type": "execute_result",
          "data": {
            "text/plain": [
              "0.96"
            ]
          },
          "metadata": {},
          "execution_count": 6
        }
      ],
      "source": [
        "dt = DecisionTree(purity=True)\n",
        "\n",
        "dt.fit(X_train, y_train)\n",
        "dt.showTree(dt.root)\n",
        "\n",
        "print(\"\\nAccuracy: \", end=\" \")\n",
        "dt.accuracy(dt.predict(X_test), y_test)"
      ]
    },
    {
      "cell_type": "code",
      "execution_count": 7,
      "metadata": {
        "colab": {
          "base_uri": "https://localhost:8080/"
        },
        "id": "E8qcz7ifON-k",
        "outputId": "6e62b020-f4c2-49d2-95cc-089e4146ddc1"
      },
      "outputs": [
        {
          "output_type": "stream",
          "name": "stdout",
          "text": [
            "DecisionTree: \n",
            "- max-depth: 5\n",
            "- min-objects-in-leaf: 1\n",
            "- purity: False\n",
            "\n",
            "|__petal length (cm) < 3.0\n",
            "|  |__class: 0\n",
            "|  |__petal length (cm) < 5.1\n",
            "|  |  |__petal width (cm) < 1.7\n",
            "|  |  |  |__class: 1\n",
            "|  |  |  |__sepal width (cm) < 3.0\n",
            "|  |  |  |  |__class: 2\n",
            "|  |  |  |  |__class: 1\n",
            "|  |  |__class: 2\n",
            "\n",
            "Accuracy:  "
          ]
        },
        {
          "output_type": "execute_result",
          "data": {
            "text/plain": [
              "0.94"
            ]
          },
          "metadata": {},
          "execution_count": 7
        }
      ],
      "source": [
        "dt = DecisionTree(depth=5, purity=False)\n",
        "\n",
        "dt.fit(X_train, y_train)\n",
        "dt.showTree(dt.root)\n",
        "\n",
        "print(\"\\nAccuracy: \", end=\" \")\n",
        "dt.accuracy(dt.predict(X_test), y_test)"
      ]
    },
    {
      "cell_type": "code",
      "execution_count": 8,
      "metadata": {
        "colab": {
          "base_uri": "https://localhost:8080/"
        },
        "id": "kpGlCUAFORud",
        "outputId": "b385cb6b-bb34-43cb-b695-ca428f7e634c"
      },
      "outputs": [
        {
          "output_type": "stream",
          "name": "stdout",
          "text": [
            "DecisionTree: \n",
            "- max-depth: 100\n",
            "- min-objects-in-leaf: 5\n",
            "- purity: False\n",
            "\n",
            "|__petal length (cm) < 3.0\n",
            "|  |__class: 0\n",
            "|  |__petal length (cm) < 5.1\n",
            "|  |  |__petal width (cm) < 1.7\n",
            "|  |  |  |__class: 1\n",
            "|  |  |  |__class: 2\n",
            "|  |  |__class: 2\n",
            "\n",
            "Accuracy:  "
          ]
        },
        {
          "output_type": "execute_result",
          "data": {
            "text/plain": [
              "0.96"
            ]
          },
          "metadata": {},
          "execution_count": 8
        }
      ],
      "source": [
        "dt = DecisionTree(objectsInLeaf=5, purity=False)\n",
        "\n",
        "dt.fit(X_train, y_train)\n",
        "dt.showTree(dt.root)\n",
        "\n",
        "print(\"\\nAccuracy: \", end=\" \")\n",
        "dt.accuracy(dt.predict(X_test), y_test)"
      ]
    },
    {
      "cell_type": "markdown",
      "metadata": {
        "id": "BkyCjLcy_CTM"
      },
      "source": [
        "##  Случайный лес"
      ]
    },
    {
      "cell_type": "markdown",
      "metadata": {
        "id": "7fKZe1FyRgCa"
      },
      "source": [
        "Опишем алгоритм случайный лес (*random forest*) и попутно разберём основные идеи:\n",
        "\n",
        "1. Зададим $N$ - число деревьев в лесу.\n",
        "2. Для каждого $n$ из $N$ сгенерируем свою выборку $X_n$. Пусть $m$ - это количество объектов в $X$. При генерации каждой $X_n$ мы будем брать объекты $m$ раз с возвращением. То есть один и тот же объект может попасть в выборку несколько раз, а какие-то объекты не попадут. (Этот способ назвается бутстрап).\n",
        "3. По каждой $X_n$ построим решающее дерево $b_n$. Обычно стараются делать глубокие деревья. В качестве критериев остановки можно использовать `max_depth` или `min_samples_leaf` (например, пока в каждом листе не окажется по одному объекту). При каждом разбиении сначала выбирается $k$ (эвристика $k = \\sqrt d$, где $d$ - это число признаков объектов из выборки $X$) случайных признаков из исходных, и оптимальное разделение выборки ищется только среди них. Обратите внимание, что мы не выбрасываем оставшиеся признаки!\n",
        "4. Итоговый алгоритм будет представлять собой результат голосования (для классификации) и среднее арифметическое (для регрессии). Модификация алгоритма предполагает учёт весов каждого отдельного слабого алгоритма в ансамбле, но в этом особо нет смысла.\n"
      ]
    },
    {
      "cell_type": "markdown",
      "metadata": {
        "id": "YJBQ8lc0WyrN"
      },
      "source": [
        "### Задание 4.2"
      ]
    },
    {
      "cell_type": "markdown",
      "metadata": {
        "id": "y594Jn04ZTCm"
      },
      "source": [
        "В качестве набора данных используйте: https://www.kaggle.com/mathchi/churn-for-bank-customers\n",
        "\n",
        "Там есть описание и примеры работы с этими данными. Если кратко, речь идёт про задачу прогнозирования оттока клиентов. Есть данные о 10 тысячах клиентов банка, часть из которых больше не являются клиентами."
      ]
    },
    {
      "cell_type": "markdown",
      "metadata": {
        "id": "be_mLbdVW2oG"
      },
      "source": [
        "Используя либо свою реализацию, либо  `DecisionTreeClassifier` с разными настройками из `sklearn.tree` реализйте алгоритм \"случайный лес\". \n",
        "\n",
        "Найдите наилучшие гиперпараметры этого алгоритма: количество деревьев, критерий остановки, функционал качества, минимальное количество объектов в листьях и другие.\n",
        "\n",
        "Нельзя использовать готовую реализацию случайного леса из `sklearn`.\n",
        "\n",
        "В подобных задачах очень важна интерпретируемость алгоритма. Попытайтесь оценить информативность признаков, т.е. ответить а вопрос, значения каких признаков являются самыми важными индикаторами того, что банк потеряет клиента."
      ]
    },
    {
      "cell_type": "code",
      "execution_count": 9,
      "metadata": {
        "colab": {
          "base_uri": "https://localhost:8080/"
        },
        "id": "ITPDR9TZg_aS",
        "outputId": "1906d972-c0ae-46f3-ae00-5b8bb1b806fc"
      },
      "outputs": [
        {
          "output_type": "stream",
          "name": "stdout",
          "text": [
            "Downloading...\n",
            "From: https://drive.google.com/uc?id=1Gu4armBj-QlwLByFnzWZ85g45GK5eIj6\n",
            "To: /content/churn.csv\n",
            "\r  0% 0.00/685k [00:00<?, ?B/s]\r100% 685k/685k [00:00<00:00, 89.2MB/s]\n"
          ]
        }
      ],
      "source": [
        "!gdown 1Gu4armBj-QlwLByFnzWZ85g45GK5eIj6"
      ]
    },
    {
      "cell_type": "code",
      "execution_count": 10,
      "metadata": {
        "colab": {
          "base_uri": "https://localhost:8080/",
          "height": 424
        },
        "id": "6SIL24oViiDg",
        "outputId": "aeeb1618-203e-49cc-c1f4-3ebf5a1f5960"
      },
      "outputs": [
        {
          "output_type": "execute_result",
          "data": {
            "text/plain": [
              "      Geography_France  Geography_Germany  Geography_Spain  CreditScore  \\\n",
              "0                  1.0                0.0              0.0          619   \n",
              "1                  0.0                0.0              1.0          608   \n",
              "2                  1.0                0.0              0.0          502   \n",
              "3                  1.0                0.0              0.0          699   \n",
              "4                  0.0                0.0              1.0          850   \n",
              "...                ...                ...              ...          ...   \n",
              "9995               1.0                0.0              0.0          771   \n",
              "9996               1.0                0.0              0.0          516   \n",
              "9997               1.0                0.0              0.0          709   \n",
              "9998               0.0                1.0              0.0          772   \n",
              "9999               1.0                0.0              0.0          792   \n",
              "\n",
              "      Gender  Age  Tenure    Balance  NumOfProducts  HasCrCard  \\\n",
              "0          0   42       2       0.00              1          1   \n",
              "1          0   41       1   83807.86              1          0   \n",
              "2          0   42       8  159660.80              3          1   \n",
              "3          0   39       1       0.00              2          0   \n",
              "4          0   43       2  125510.82              1          1   \n",
              "...      ...  ...     ...        ...            ...        ...   \n",
              "9995       1   39       5       0.00              2          1   \n",
              "9996       1   35      10   57369.61              1          1   \n",
              "9997       0   36       7       0.00              1          0   \n",
              "9998       1   42       3   75075.31              2          1   \n",
              "9999       0   28       4  130142.79              1          1   \n",
              "\n",
              "      IsActiveMember  EstimatedSalary  Exited  \n",
              "0                  1        101348.88       1  \n",
              "1                  1        112542.58       0  \n",
              "2                  0        113931.57       1  \n",
              "3                  0         93826.63       0  \n",
              "4                  1         79084.10       0  \n",
              "...              ...              ...     ...  \n",
              "9995               0         96270.64       0  \n",
              "9996               1        101699.77       0  \n",
              "9997               1         42085.58       1  \n",
              "9998               0         92888.52       1  \n",
              "9999               0         38190.78       0  \n",
              "\n",
              "[10000 rows x 13 columns]"
            ],
            "text/html": [
              "\n",
              "  <div id=\"df-d1a75d3a-2342-4cf2-9977-9df412806e6c\">\n",
              "    <div class=\"colab-df-container\">\n",
              "      <div>\n",
              "<style scoped>\n",
              "    .dataframe tbody tr th:only-of-type {\n",
              "        vertical-align: middle;\n",
              "    }\n",
              "\n",
              "    .dataframe tbody tr th {\n",
              "        vertical-align: top;\n",
              "    }\n",
              "\n",
              "    .dataframe thead th {\n",
              "        text-align: right;\n",
              "    }\n",
              "</style>\n",
              "<table border=\"1\" class=\"dataframe\">\n",
              "  <thead>\n",
              "    <tr style=\"text-align: right;\">\n",
              "      <th></th>\n",
              "      <th>Geography_France</th>\n",
              "      <th>Geography_Germany</th>\n",
              "      <th>Geography_Spain</th>\n",
              "      <th>CreditScore</th>\n",
              "      <th>Gender</th>\n",
              "      <th>Age</th>\n",
              "      <th>Tenure</th>\n",
              "      <th>Balance</th>\n",
              "      <th>NumOfProducts</th>\n",
              "      <th>HasCrCard</th>\n",
              "      <th>IsActiveMember</th>\n",
              "      <th>EstimatedSalary</th>\n",
              "      <th>Exited</th>\n",
              "    </tr>\n",
              "  </thead>\n",
              "  <tbody>\n",
              "    <tr>\n",
              "      <th>0</th>\n",
              "      <td>1.0</td>\n",
              "      <td>0.0</td>\n",
              "      <td>0.0</td>\n",
              "      <td>619</td>\n",
              "      <td>0</td>\n",
              "      <td>42</td>\n",
              "      <td>2</td>\n",
              "      <td>0.00</td>\n",
              "      <td>1</td>\n",
              "      <td>1</td>\n",
              "      <td>1</td>\n",
              "      <td>101348.88</td>\n",
              "      <td>1</td>\n",
              "    </tr>\n",
              "    <tr>\n",
              "      <th>1</th>\n",
              "      <td>0.0</td>\n",
              "      <td>0.0</td>\n",
              "      <td>1.0</td>\n",
              "      <td>608</td>\n",
              "      <td>0</td>\n",
              "      <td>41</td>\n",
              "      <td>1</td>\n",
              "      <td>83807.86</td>\n",
              "      <td>1</td>\n",
              "      <td>0</td>\n",
              "      <td>1</td>\n",
              "      <td>112542.58</td>\n",
              "      <td>0</td>\n",
              "    </tr>\n",
              "    <tr>\n",
              "      <th>2</th>\n",
              "      <td>1.0</td>\n",
              "      <td>0.0</td>\n",
              "      <td>0.0</td>\n",
              "      <td>502</td>\n",
              "      <td>0</td>\n",
              "      <td>42</td>\n",
              "      <td>8</td>\n",
              "      <td>159660.80</td>\n",
              "      <td>3</td>\n",
              "      <td>1</td>\n",
              "      <td>0</td>\n",
              "      <td>113931.57</td>\n",
              "      <td>1</td>\n",
              "    </tr>\n",
              "    <tr>\n",
              "      <th>3</th>\n",
              "      <td>1.0</td>\n",
              "      <td>0.0</td>\n",
              "      <td>0.0</td>\n",
              "      <td>699</td>\n",
              "      <td>0</td>\n",
              "      <td>39</td>\n",
              "      <td>1</td>\n",
              "      <td>0.00</td>\n",
              "      <td>2</td>\n",
              "      <td>0</td>\n",
              "      <td>0</td>\n",
              "      <td>93826.63</td>\n",
              "      <td>0</td>\n",
              "    </tr>\n",
              "    <tr>\n",
              "      <th>4</th>\n",
              "      <td>0.0</td>\n",
              "      <td>0.0</td>\n",
              "      <td>1.0</td>\n",
              "      <td>850</td>\n",
              "      <td>0</td>\n",
              "      <td>43</td>\n",
              "      <td>2</td>\n",
              "      <td>125510.82</td>\n",
              "      <td>1</td>\n",
              "      <td>1</td>\n",
              "      <td>1</td>\n",
              "      <td>79084.10</td>\n",
              "      <td>0</td>\n",
              "    </tr>\n",
              "    <tr>\n",
              "      <th>...</th>\n",
              "      <td>...</td>\n",
              "      <td>...</td>\n",
              "      <td>...</td>\n",
              "      <td>...</td>\n",
              "      <td>...</td>\n",
              "      <td>...</td>\n",
              "      <td>...</td>\n",
              "      <td>...</td>\n",
              "      <td>...</td>\n",
              "      <td>...</td>\n",
              "      <td>...</td>\n",
              "      <td>...</td>\n",
              "      <td>...</td>\n",
              "    </tr>\n",
              "    <tr>\n",
              "      <th>9995</th>\n",
              "      <td>1.0</td>\n",
              "      <td>0.0</td>\n",
              "      <td>0.0</td>\n",
              "      <td>771</td>\n",
              "      <td>1</td>\n",
              "      <td>39</td>\n",
              "      <td>5</td>\n",
              "      <td>0.00</td>\n",
              "      <td>2</td>\n",
              "      <td>1</td>\n",
              "      <td>0</td>\n",
              "      <td>96270.64</td>\n",
              "      <td>0</td>\n",
              "    </tr>\n",
              "    <tr>\n",
              "      <th>9996</th>\n",
              "      <td>1.0</td>\n",
              "      <td>0.0</td>\n",
              "      <td>0.0</td>\n",
              "      <td>516</td>\n",
              "      <td>1</td>\n",
              "      <td>35</td>\n",
              "      <td>10</td>\n",
              "      <td>57369.61</td>\n",
              "      <td>1</td>\n",
              "      <td>1</td>\n",
              "      <td>1</td>\n",
              "      <td>101699.77</td>\n",
              "      <td>0</td>\n",
              "    </tr>\n",
              "    <tr>\n",
              "      <th>9997</th>\n",
              "      <td>1.0</td>\n",
              "      <td>0.0</td>\n",
              "      <td>0.0</td>\n",
              "      <td>709</td>\n",
              "      <td>0</td>\n",
              "      <td>36</td>\n",
              "      <td>7</td>\n",
              "      <td>0.00</td>\n",
              "      <td>1</td>\n",
              "      <td>0</td>\n",
              "      <td>1</td>\n",
              "      <td>42085.58</td>\n",
              "      <td>1</td>\n",
              "    </tr>\n",
              "    <tr>\n",
              "      <th>9998</th>\n",
              "      <td>0.0</td>\n",
              "      <td>1.0</td>\n",
              "      <td>0.0</td>\n",
              "      <td>772</td>\n",
              "      <td>1</td>\n",
              "      <td>42</td>\n",
              "      <td>3</td>\n",
              "      <td>75075.31</td>\n",
              "      <td>2</td>\n",
              "      <td>1</td>\n",
              "      <td>0</td>\n",
              "      <td>92888.52</td>\n",
              "      <td>1</td>\n",
              "    </tr>\n",
              "    <tr>\n",
              "      <th>9999</th>\n",
              "      <td>1.0</td>\n",
              "      <td>0.0</td>\n",
              "      <td>0.0</td>\n",
              "      <td>792</td>\n",
              "      <td>0</td>\n",
              "      <td>28</td>\n",
              "      <td>4</td>\n",
              "      <td>130142.79</td>\n",
              "      <td>1</td>\n",
              "      <td>1</td>\n",
              "      <td>0</td>\n",
              "      <td>38190.78</td>\n",
              "      <td>0</td>\n",
              "    </tr>\n",
              "  </tbody>\n",
              "</table>\n",
              "<p>10000 rows × 13 columns</p>\n",
              "</div>\n",
              "      <button class=\"colab-df-convert\" onclick=\"convertToInteractive('df-d1a75d3a-2342-4cf2-9977-9df412806e6c')\"\n",
              "              title=\"Convert this dataframe to an interactive table.\"\n",
              "              style=\"display:none;\">\n",
              "        \n",
              "  <svg xmlns=\"http://www.w3.org/2000/svg\" height=\"24px\"viewBox=\"0 0 24 24\"\n",
              "       width=\"24px\">\n",
              "    <path d=\"M0 0h24v24H0V0z\" fill=\"none\"/>\n",
              "    <path d=\"M18.56 5.44l.94 2.06.94-2.06 2.06-.94-2.06-.94-.94-2.06-.94 2.06-2.06.94zm-11 1L8.5 8.5l.94-2.06 2.06-.94-2.06-.94L8.5 2.5l-.94 2.06-2.06.94zm10 10l.94 2.06.94-2.06 2.06-.94-2.06-.94-.94-2.06-.94 2.06-2.06.94z\"/><path d=\"M17.41 7.96l-1.37-1.37c-.4-.4-.92-.59-1.43-.59-.52 0-1.04.2-1.43.59L10.3 9.45l-7.72 7.72c-.78.78-.78 2.05 0 2.83L4 21.41c.39.39.9.59 1.41.59.51 0 1.02-.2 1.41-.59l7.78-7.78 2.81-2.81c.8-.78.8-2.07 0-2.86zM5.41 20L4 18.59l7.72-7.72 1.47 1.35L5.41 20z\"/>\n",
              "  </svg>\n",
              "      </button>\n",
              "      \n",
              "  <style>\n",
              "    .colab-df-container {\n",
              "      display:flex;\n",
              "      flex-wrap:wrap;\n",
              "      gap: 12px;\n",
              "    }\n",
              "\n",
              "    .colab-df-convert {\n",
              "      background-color: #E8F0FE;\n",
              "      border: none;\n",
              "      border-radius: 50%;\n",
              "      cursor: pointer;\n",
              "      display: none;\n",
              "      fill: #1967D2;\n",
              "      height: 32px;\n",
              "      padding: 0 0 0 0;\n",
              "      width: 32px;\n",
              "    }\n",
              "\n",
              "    .colab-df-convert:hover {\n",
              "      background-color: #E2EBFA;\n",
              "      box-shadow: 0px 1px 2px rgba(60, 64, 67, 0.3), 0px 1px 3px 1px rgba(60, 64, 67, 0.15);\n",
              "      fill: #174EA6;\n",
              "    }\n",
              "\n",
              "    [theme=dark] .colab-df-convert {\n",
              "      background-color: #3B4455;\n",
              "      fill: #D2E3FC;\n",
              "    }\n",
              "\n",
              "    [theme=dark] .colab-df-convert:hover {\n",
              "      background-color: #434B5C;\n",
              "      box-shadow: 0px 1px 3px 1px rgba(0, 0, 0, 0.15);\n",
              "      filter: drop-shadow(0px 1px 2px rgba(0, 0, 0, 0.3));\n",
              "      fill: #FFFFFF;\n",
              "    }\n",
              "  </style>\n",
              "\n",
              "      <script>\n",
              "        const buttonEl =\n",
              "          document.querySelector('#df-d1a75d3a-2342-4cf2-9977-9df412806e6c button.colab-df-convert');\n",
              "        buttonEl.style.display =\n",
              "          google.colab.kernel.accessAllowed ? 'block' : 'none';\n",
              "\n",
              "        async function convertToInteractive(key) {\n",
              "          const element = document.querySelector('#df-d1a75d3a-2342-4cf2-9977-9df412806e6c');\n",
              "          const dataTable =\n",
              "            await google.colab.kernel.invokeFunction('convertToInteractive',\n",
              "                                                     [key], {});\n",
              "          if (!dataTable) return;\n",
              "\n",
              "          const docLinkHtml = 'Like what you see? Visit the ' +\n",
              "            '<a target=\"_blank\" href=https://colab.research.google.com/notebooks/data_table.ipynb>data table notebook</a>'\n",
              "            + ' to learn more about interactive tables.';\n",
              "          element.innerHTML = '';\n",
              "          dataTable['output_type'] = 'display_data';\n",
              "          await google.colab.output.renderOutput(dataTable, element);\n",
              "          const docLink = document.createElement('div');\n",
              "          docLink.innerHTML = docLinkHtml;\n",
              "          element.appendChild(docLink);\n",
              "        }\n",
              "      </script>\n",
              "    </div>\n",
              "  </div>\n",
              "  "
            ]
          },
          "metadata": {},
          "execution_count": 10
        }
      ],
      "source": [
        "from sklearn.preprocessing import OneHotEncoder\n",
        "\n",
        "df = pd.read_csv('churn.csv')\n",
        "\n",
        "dfCategorial = df[['Geography']]\n",
        "df['Gender'] = df['Gender'].apply(lambda x: 0 if x == 'Female' else 1)\n",
        "df = df.drop(['Geography', 'Surname', 'CustomerId', 'RowNumber'], axis=1)\n",
        "\n",
        "enc = OneHotEncoder()\n",
        "X = enc.fit_transform(dfCategorial).toarray()\n",
        "df = pd.DataFrame(X, columns=enc.get_feature_names_out()).join(df)\n",
        "\n",
        "X_train, X_test, y_train, y_test = train_test_split(df.drop(['Exited'], axis=1), df['Exited'])\n",
        "X_train = pd.DataFrame(X_train, columns=df.drop(['Exited'], axis=1).columns)\n",
        "X_test = pd.DataFrame(X_test, columns=df.drop(['Exited'], axis=1).columns)\n",
        "\n",
        "df"
      ]
    },
    {
      "cell_type": "code",
      "execution_count": 11,
      "metadata": {
        "id": "w1hgv1QCFcNu"
      },
      "outputs": [],
      "source": [
        "from sklearn.tree import DecisionTreeClassifier\n",
        "\n",
        "class TwoClassRandomForest:\n",
        "    def __init__(self, N=100):\n",
        "        self.N = N\n",
        "        self.trees = []\n",
        "\n",
        "    def fit(self, X, y, m=None):\n",
        "        if not m:\n",
        "            m = len(y)\n",
        "        self.m = m\n",
        "\n",
        "        self.feature_importance = pd.DataFrame()\n",
        "        self.feature_importance['names'] = X.columns\n",
        "        self.feature_importance['value'] = 0\n",
        "\n",
        "        df = X.copy()\n",
        "        df['target'] = y\n",
        "        \n",
        "        for i in range(self.N):\n",
        "            self.trees.append(DecisionTreeClassifier(max_depth=5, criterion='gini', min_samples_leaf=1, max_features='sqrt'))\n",
        "            curr_sample = df.sample(n=self.m, replace=True)\n",
        "            self.trees[-1].fit(curr_sample.drop(['target'], axis=1), curr_sample['target'])\n",
        "            self.feature_importance['value'] += self.trees[-1].feature_importances_\n",
        "        self.feature_importance['value'] /= self.N\n",
        "\n",
        "    def predict(self, X):\n",
        "        results = pd.DataFrame()\n",
        "        results['sum'] = np.zeros(len(X.values))\n",
        "        for r in self.trees:\n",
        "            results['sum'] += r.predict(X) \n",
        "        return results['sum'].apply(lambda x: 0 if x <= self.N // 2 else 1)"
      ]
    },
    {
      "cell_type": "code",
      "execution_count": 12,
      "metadata": {
        "colab": {
          "base_uri": "https://localhost:8080/"
        },
        "id": "23b2Drdh4DNX",
        "outputId": "d0144960-89c4-446d-a787-749fa8316777"
      },
      "outputs": [
        {
          "output_type": "execute_result",
          "data": {
            "text/plain": [
              "0.8456"
            ]
          },
          "metadata": {},
          "execution_count": 12
        }
      ],
      "source": [
        "rf = TwoClassRandomForest(N=200)\n",
        "rf.fit(X_train, y_train, m=5000)\n",
        "y_predict = rf.predict(X_test)\n",
        "accuracy_score(y_test, y_predict)"
      ]
    },
    {
      "cell_type": "markdown",
      "source": [
        "Значимость признаков"
      ],
      "metadata": {
        "id": "LT7v1LH185uJ"
      }
    },
    {
      "cell_type": "code",
      "execution_count": 13,
      "metadata": {
        "colab": {
          "base_uri": "https://localhost:8080/",
          "height": 426
        },
        "id": "1O7M8DnH3CNk",
        "outputId": "90e39726-28fb-47ae-fd46-a47973923a7b"
      },
      "outputs": [
        {
          "output_type": "execute_result",
          "data": {
            "text/plain": [
              "                names     value\n",
              "5                 Age  0.389757\n",
              "8       NumOfProducts  0.297691\n",
              "10     IsActiveMember  0.093137\n",
              "1   Geography_Germany  0.068411\n",
              "7             Balance  0.059795\n",
              "3         CreditScore  0.028028\n",
              "4              Gender  0.020172\n",
              "11    EstimatedSalary  0.017166\n",
              "0    Geography_France  0.009956\n",
              "6              Tenure  0.008412\n",
              "2     Geography_Spain  0.005986\n",
              "9           HasCrCard  0.001487"
            ],
            "text/html": [
              "\n",
              "  <div id=\"df-cef8085e-06cb-4803-b805-8c9f0cc26d35\">\n",
              "    <div class=\"colab-df-container\">\n",
              "      <div>\n",
              "<style scoped>\n",
              "    .dataframe tbody tr th:only-of-type {\n",
              "        vertical-align: middle;\n",
              "    }\n",
              "\n",
              "    .dataframe tbody tr th {\n",
              "        vertical-align: top;\n",
              "    }\n",
              "\n",
              "    .dataframe thead th {\n",
              "        text-align: right;\n",
              "    }\n",
              "</style>\n",
              "<table border=\"1\" class=\"dataframe\">\n",
              "  <thead>\n",
              "    <tr style=\"text-align: right;\">\n",
              "      <th></th>\n",
              "      <th>names</th>\n",
              "      <th>value</th>\n",
              "    </tr>\n",
              "  </thead>\n",
              "  <tbody>\n",
              "    <tr>\n",
              "      <th>5</th>\n",
              "      <td>Age</td>\n",
              "      <td>0.389757</td>\n",
              "    </tr>\n",
              "    <tr>\n",
              "      <th>8</th>\n",
              "      <td>NumOfProducts</td>\n",
              "      <td>0.297691</td>\n",
              "    </tr>\n",
              "    <tr>\n",
              "      <th>10</th>\n",
              "      <td>IsActiveMember</td>\n",
              "      <td>0.093137</td>\n",
              "    </tr>\n",
              "    <tr>\n",
              "      <th>1</th>\n",
              "      <td>Geography_Germany</td>\n",
              "      <td>0.068411</td>\n",
              "    </tr>\n",
              "    <tr>\n",
              "      <th>7</th>\n",
              "      <td>Balance</td>\n",
              "      <td>0.059795</td>\n",
              "    </tr>\n",
              "    <tr>\n",
              "      <th>3</th>\n",
              "      <td>CreditScore</td>\n",
              "      <td>0.028028</td>\n",
              "    </tr>\n",
              "    <tr>\n",
              "      <th>4</th>\n",
              "      <td>Gender</td>\n",
              "      <td>0.020172</td>\n",
              "    </tr>\n",
              "    <tr>\n",
              "      <th>11</th>\n",
              "      <td>EstimatedSalary</td>\n",
              "      <td>0.017166</td>\n",
              "    </tr>\n",
              "    <tr>\n",
              "      <th>0</th>\n",
              "      <td>Geography_France</td>\n",
              "      <td>0.009956</td>\n",
              "    </tr>\n",
              "    <tr>\n",
              "      <th>6</th>\n",
              "      <td>Tenure</td>\n",
              "      <td>0.008412</td>\n",
              "    </tr>\n",
              "    <tr>\n",
              "      <th>2</th>\n",
              "      <td>Geography_Spain</td>\n",
              "      <td>0.005986</td>\n",
              "    </tr>\n",
              "    <tr>\n",
              "      <th>9</th>\n",
              "      <td>HasCrCard</td>\n",
              "      <td>0.001487</td>\n",
              "    </tr>\n",
              "  </tbody>\n",
              "</table>\n",
              "</div>\n",
              "      <button class=\"colab-df-convert\" onclick=\"convertToInteractive('df-cef8085e-06cb-4803-b805-8c9f0cc26d35')\"\n",
              "              title=\"Convert this dataframe to an interactive table.\"\n",
              "              style=\"display:none;\">\n",
              "        \n",
              "  <svg xmlns=\"http://www.w3.org/2000/svg\" height=\"24px\"viewBox=\"0 0 24 24\"\n",
              "       width=\"24px\">\n",
              "    <path d=\"M0 0h24v24H0V0z\" fill=\"none\"/>\n",
              "    <path d=\"M18.56 5.44l.94 2.06.94-2.06 2.06-.94-2.06-.94-.94-2.06-.94 2.06-2.06.94zm-11 1L8.5 8.5l.94-2.06 2.06-.94-2.06-.94L8.5 2.5l-.94 2.06-2.06.94zm10 10l.94 2.06.94-2.06 2.06-.94-2.06-.94-.94-2.06-.94 2.06-2.06.94z\"/><path d=\"M17.41 7.96l-1.37-1.37c-.4-.4-.92-.59-1.43-.59-.52 0-1.04.2-1.43.59L10.3 9.45l-7.72 7.72c-.78.78-.78 2.05 0 2.83L4 21.41c.39.39.9.59 1.41.59.51 0 1.02-.2 1.41-.59l7.78-7.78 2.81-2.81c.8-.78.8-2.07 0-2.86zM5.41 20L4 18.59l7.72-7.72 1.47 1.35L5.41 20z\"/>\n",
              "  </svg>\n",
              "      </button>\n",
              "      \n",
              "  <style>\n",
              "    .colab-df-container {\n",
              "      display:flex;\n",
              "      flex-wrap:wrap;\n",
              "      gap: 12px;\n",
              "    }\n",
              "\n",
              "    .colab-df-convert {\n",
              "      background-color: #E8F0FE;\n",
              "      border: none;\n",
              "      border-radius: 50%;\n",
              "      cursor: pointer;\n",
              "      display: none;\n",
              "      fill: #1967D2;\n",
              "      height: 32px;\n",
              "      padding: 0 0 0 0;\n",
              "      width: 32px;\n",
              "    }\n",
              "\n",
              "    .colab-df-convert:hover {\n",
              "      background-color: #E2EBFA;\n",
              "      box-shadow: 0px 1px 2px rgba(60, 64, 67, 0.3), 0px 1px 3px 1px rgba(60, 64, 67, 0.15);\n",
              "      fill: #174EA6;\n",
              "    }\n",
              "\n",
              "    [theme=dark] .colab-df-convert {\n",
              "      background-color: #3B4455;\n",
              "      fill: #D2E3FC;\n",
              "    }\n",
              "\n",
              "    [theme=dark] .colab-df-convert:hover {\n",
              "      background-color: #434B5C;\n",
              "      box-shadow: 0px 1px 3px 1px rgba(0, 0, 0, 0.15);\n",
              "      filter: drop-shadow(0px 1px 2px rgba(0, 0, 0, 0.3));\n",
              "      fill: #FFFFFF;\n",
              "    }\n",
              "  </style>\n",
              "\n",
              "      <script>\n",
              "        const buttonEl =\n",
              "          document.querySelector('#df-cef8085e-06cb-4803-b805-8c9f0cc26d35 button.colab-df-convert');\n",
              "        buttonEl.style.display =\n",
              "          google.colab.kernel.accessAllowed ? 'block' : 'none';\n",
              "\n",
              "        async function convertToInteractive(key) {\n",
              "          const element = document.querySelector('#df-cef8085e-06cb-4803-b805-8c9f0cc26d35');\n",
              "          const dataTable =\n",
              "            await google.colab.kernel.invokeFunction('convertToInteractive',\n",
              "                                                     [key], {});\n",
              "          if (!dataTable) return;\n",
              "\n",
              "          const docLinkHtml = 'Like what you see? Visit the ' +\n",
              "            '<a target=\"_blank\" href=https://colab.research.google.com/notebooks/data_table.ipynb>data table notebook</a>'\n",
              "            + ' to learn more about interactive tables.';\n",
              "          element.innerHTML = '';\n",
              "          dataTable['output_type'] = 'display_data';\n",
              "          await google.colab.output.renderOutput(dataTable, element);\n",
              "          const docLink = document.createElement('div');\n",
              "          docLink.innerHTML = docLinkHtml;\n",
              "          element.appendChild(docLink);\n",
              "        }\n",
              "      </script>\n",
              "    </div>\n",
              "  </div>\n",
              "  "
            ]
          },
          "metadata": {},
          "execution_count": 13
        }
      ],
      "source": [
        "rf.feature_importance.sort_values(by='value', ascending=False)"
      ]
    }
  ],
  "metadata": {
    "colab": {
      "collapsed_sections": [],
      "provenance": [],
      "include_colab_link": true
    },
    "kernelspec": {
      "display_name": "Python 3",
      "name": "python3"
    }
  },
  "nbformat": 4,
  "nbformat_minor": 0
}